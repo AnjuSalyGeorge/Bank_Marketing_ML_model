{
  "cells": [
    {
      "cell_type": "code",
      "execution_count": 1,
      "metadata": {
        "colab": {
          "base_uri": "https://localhost:8080/",
          "height": 707
        },
        "id": "Lc8z1Z_IyYar",
        "outputId": "0e099af4-387f-4d11-c04e-26c444cd8589"
      },
      "outputs": [
        {
          "output_type": "execute_result",
          "data": {
            "text/plain": [
              "                          0            1            2\n",
              "age                      56           57           37\n",
              "job               housemaid     services     services\n",
              "marital             married      married      married\n",
              "education          basic.4y  high.school  high.school\n",
              "default                  no      unknown           no\n",
              "housing                  no           no          yes\n",
              "loan                     no           no           no\n",
              "contact           telephone    telephone    telephone\n",
              "month                   may          may          may\n",
              "day_of_week             mon          mon          mon\n",
              "duration                261          149          226\n",
              "campaign                  1            1            1\n",
              "pdays                   999          999          999\n",
              "previous                  0            0            0\n",
              "poutcome        nonexistent  nonexistent  nonexistent\n",
              "emp.var.rate            1.1          1.1          1.1\n",
              "cons.price.idx       93.994       93.994       93.994\n",
              "cons.conf.idx         -36.4        -36.4        -36.4\n",
              "euribor3m             4.857        4.857        4.857\n",
              "nr.employed          5191.0       5191.0       5191.0\n",
              "y                        no           no           no"
            ],
            "text/html": [
              "\n",
              "  <div id=\"df-d5e48dc9-77e0-46a3-8800-8c03f997dd9d\" class=\"colab-df-container\">\n",
              "    <div>\n",
              "<style scoped>\n",
              "    .dataframe tbody tr th:only-of-type {\n",
              "        vertical-align: middle;\n",
              "    }\n",
              "\n",
              "    .dataframe tbody tr th {\n",
              "        vertical-align: top;\n",
              "    }\n",
              "\n",
              "    .dataframe thead th {\n",
              "        text-align: right;\n",
              "    }\n",
              "</style>\n",
              "<table border=\"1\" class=\"dataframe\">\n",
              "  <thead>\n",
              "    <tr style=\"text-align: right;\">\n",
              "      <th></th>\n",
              "      <th>0</th>\n",
              "      <th>1</th>\n",
              "      <th>2</th>\n",
              "    </tr>\n",
              "  </thead>\n",
              "  <tbody>\n",
              "    <tr>\n",
              "      <th>age</th>\n",
              "      <td>56</td>\n",
              "      <td>57</td>\n",
              "      <td>37</td>\n",
              "    </tr>\n",
              "    <tr>\n",
              "      <th>job</th>\n",
              "      <td>housemaid</td>\n",
              "      <td>services</td>\n",
              "      <td>services</td>\n",
              "    </tr>\n",
              "    <tr>\n",
              "      <th>marital</th>\n",
              "      <td>married</td>\n",
              "      <td>married</td>\n",
              "      <td>married</td>\n",
              "    </tr>\n",
              "    <tr>\n",
              "      <th>education</th>\n",
              "      <td>basic.4y</td>\n",
              "      <td>high.school</td>\n",
              "      <td>high.school</td>\n",
              "    </tr>\n",
              "    <tr>\n",
              "      <th>default</th>\n",
              "      <td>no</td>\n",
              "      <td>unknown</td>\n",
              "      <td>no</td>\n",
              "    </tr>\n",
              "    <tr>\n",
              "      <th>housing</th>\n",
              "      <td>no</td>\n",
              "      <td>no</td>\n",
              "      <td>yes</td>\n",
              "    </tr>\n",
              "    <tr>\n",
              "      <th>loan</th>\n",
              "      <td>no</td>\n",
              "      <td>no</td>\n",
              "      <td>no</td>\n",
              "    </tr>\n",
              "    <tr>\n",
              "      <th>contact</th>\n",
              "      <td>telephone</td>\n",
              "      <td>telephone</td>\n",
              "      <td>telephone</td>\n",
              "    </tr>\n",
              "    <tr>\n",
              "      <th>month</th>\n",
              "      <td>may</td>\n",
              "      <td>may</td>\n",
              "      <td>may</td>\n",
              "    </tr>\n",
              "    <tr>\n",
              "      <th>day_of_week</th>\n",
              "      <td>mon</td>\n",
              "      <td>mon</td>\n",
              "      <td>mon</td>\n",
              "    </tr>\n",
              "    <tr>\n",
              "      <th>duration</th>\n",
              "      <td>261</td>\n",
              "      <td>149</td>\n",
              "      <td>226</td>\n",
              "    </tr>\n",
              "    <tr>\n",
              "      <th>campaign</th>\n",
              "      <td>1</td>\n",
              "      <td>1</td>\n",
              "      <td>1</td>\n",
              "    </tr>\n",
              "    <tr>\n",
              "      <th>pdays</th>\n",
              "      <td>999</td>\n",
              "      <td>999</td>\n",
              "      <td>999</td>\n",
              "    </tr>\n",
              "    <tr>\n",
              "      <th>previous</th>\n",
              "      <td>0</td>\n",
              "      <td>0</td>\n",
              "      <td>0</td>\n",
              "    </tr>\n",
              "    <tr>\n",
              "      <th>poutcome</th>\n",
              "      <td>nonexistent</td>\n",
              "      <td>nonexistent</td>\n",
              "      <td>nonexistent</td>\n",
              "    </tr>\n",
              "    <tr>\n",
              "      <th>emp.var.rate</th>\n",
              "      <td>1.1</td>\n",
              "      <td>1.1</td>\n",
              "      <td>1.1</td>\n",
              "    </tr>\n",
              "    <tr>\n",
              "      <th>cons.price.idx</th>\n",
              "      <td>93.994</td>\n",
              "      <td>93.994</td>\n",
              "      <td>93.994</td>\n",
              "    </tr>\n",
              "    <tr>\n",
              "      <th>cons.conf.idx</th>\n",
              "      <td>-36.4</td>\n",
              "      <td>-36.4</td>\n",
              "      <td>-36.4</td>\n",
              "    </tr>\n",
              "    <tr>\n",
              "      <th>euribor3m</th>\n",
              "      <td>4.857</td>\n",
              "      <td>4.857</td>\n",
              "      <td>4.857</td>\n",
              "    </tr>\n",
              "    <tr>\n",
              "      <th>nr.employed</th>\n",
              "      <td>5191.0</td>\n",
              "      <td>5191.0</td>\n",
              "      <td>5191.0</td>\n",
              "    </tr>\n",
              "    <tr>\n",
              "      <th>y</th>\n",
              "      <td>no</td>\n",
              "      <td>no</td>\n",
              "      <td>no</td>\n",
              "    </tr>\n",
              "  </tbody>\n",
              "</table>\n",
              "</div>\n",
              "    <div class=\"colab-df-buttons\">\n",
              "\n",
              "  <div class=\"colab-df-container\">\n",
              "    <button class=\"colab-df-convert\" onclick=\"convertToInteractive('df-d5e48dc9-77e0-46a3-8800-8c03f997dd9d')\"\n",
              "            title=\"Convert this dataframe to an interactive table.\"\n",
              "            style=\"display:none;\">\n",
              "\n",
              "  <svg xmlns=\"http://www.w3.org/2000/svg\" height=\"24px\" viewBox=\"0 -960 960 960\">\n",
              "    <path d=\"M120-120v-720h720v720H120Zm60-500h600v-160H180v160Zm220 220h160v-160H400v160Zm0 220h160v-160H400v160ZM180-400h160v-160H180v160Zm440 0h160v-160H620v160ZM180-180h160v-160H180v160Zm440 0h160v-160H620v160Z\"/>\n",
              "  </svg>\n",
              "    </button>\n",
              "\n",
              "  <style>\n",
              "    .colab-df-container {\n",
              "      display:flex;\n",
              "      gap: 12px;\n",
              "    }\n",
              "\n",
              "    .colab-df-convert {\n",
              "      background-color: #E8F0FE;\n",
              "      border: none;\n",
              "      border-radius: 50%;\n",
              "      cursor: pointer;\n",
              "      display: none;\n",
              "      fill: #1967D2;\n",
              "      height: 32px;\n",
              "      padding: 0 0 0 0;\n",
              "      width: 32px;\n",
              "    }\n",
              "\n",
              "    .colab-df-convert:hover {\n",
              "      background-color: #E2EBFA;\n",
              "      box-shadow: 0px 1px 2px rgba(60, 64, 67, 0.3), 0px 1px 3px 1px rgba(60, 64, 67, 0.15);\n",
              "      fill: #174EA6;\n",
              "    }\n",
              "\n",
              "    .colab-df-buttons div {\n",
              "      margin-bottom: 4px;\n",
              "    }\n",
              "\n",
              "    [theme=dark] .colab-df-convert {\n",
              "      background-color: #3B4455;\n",
              "      fill: #D2E3FC;\n",
              "    }\n",
              "\n",
              "    [theme=dark] .colab-df-convert:hover {\n",
              "      background-color: #434B5C;\n",
              "      box-shadow: 0px 1px 3px 1px rgba(0, 0, 0, 0.15);\n",
              "      filter: drop-shadow(0px 1px 2px rgba(0, 0, 0, 0.3));\n",
              "      fill: #FFFFFF;\n",
              "    }\n",
              "  </style>\n",
              "\n",
              "    <script>\n",
              "      const buttonEl =\n",
              "        document.querySelector('#df-d5e48dc9-77e0-46a3-8800-8c03f997dd9d button.colab-df-convert');\n",
              "      buttonEl.style.display =\n",
              "        google.colab.kernel.accessAllowed ? 'block' : 'none';\n",
              "\n",
              "      async function convertToInteractive(key) {\n",
              "        const element = document.querySelector('#df-d5e48dc9-77e0-46a3-8800-8c03f997dd9d');\n",
              "        const dataTable =\n",
              "          await google.colab.kernel.invokeFunction('convertToInteractive',\n",
              "                                                    [key], {});\n",
              "        if (!dataTable) return;\n",
              "\n",
              "        const docLinkHtml = 'Like what you see? Visit the ' +\n",
              "          '<a target=\"_blank\" href=https://colab.research.google.com/notebooks/data_table.ipynb>data table notebook</a>'\n",
              "          + ' to learn more about interactive tables.';\n",
              "        element.innerHTML = '';\n",
              "        dataTable['output_type'] = 'display_data';\n",
              "        await google.colab.output.renderOutput(dataTable, element);\n",
              "        const docLink = document.createElement('div');\n",
              "        docLink.innerHTML = docLinkHtml;\n",
              "        element.appendChild(docLink);\n",
              "      }\n",
              "    </script>\n",
              "  </div>\n",
              "\n",
              "\n",
              "<div id=\"df-cdd13201-51c0-47d9-9a5d-7d64397ed465\">\n",
              "  <button class=\"colab-df-quickchart\" onclick=\"quickchart('df-cdd13201-51c0-47d9-9a5d-7d64397ed465')\"\n",
              "            title=\"Suggest charts\"\n",
              "            style=\"display:none;\">\n",
              "\n",
              "<svg xmlns=\"http://www.w3.org/2000/svg\" height=\"24px\"viewBox=\"0 0 24 24\"\n",
              "     width=\"24px\">\n",
              "    <g>\n",
              "        <path d=\"M19 3H5c-1.1 0-2 .9-2 2v14c0 1.1.9 2 2 2h14c1.1 0 2-.9 2-2V5c0-1.1-.9-2-2-2zM9 17H7v-7h2v7zm4 0h-2V7h2v10zm4 0h-2v-4h2v4z\"/>\n",
              "    </g>\n",
              "</svg>\n",
              "  </button>\n",
              "\n",
              "<style>\n",
              "  .colab-df-quickchart {\n",
              "      --bg-color: #E8F0FE;\n",
              "      --fill-color: #1967D2;\n",
              "      --hover-bg-color: #E2EBFA;\n",
              "      --hover-fill-color: #174EA6;\n",
              "      --disabled-fill-color: #AAA;\n",
              "      --disabled-bg-color: #DDD;\n",
              "  }\n",
              "\n",
              "  [theme=dark] .colab-df-quickchart {\n",
              "      --bg-color: #3B4455;\n",
              "      --fill-color: #D2E3FC;\n",
              "      --hover-bg-color: #434B5C;\n",
              "      --hover-fill-color: #FFFFFF;\n",
              "      --disabled-bg-color: #3B4455;\n",
              "      --disabled-fill-color: #666;\n",
              "  }\n",
              "\n",
              "  .colab-df-quickchart {\n",
              "    background-color: var(--bg-color);\n",
              "    border: none;\n",
              "    border-radius: 50%;\n",
              "    cursor: pointer;\n",
              "    display: none;\n",
              "    fill: var(--fill-color);\n",
              "    height: 32px;\n",
              "    padding: 0;\n",
              "    width: 32px;\n",
              "  }\n",
              "\n",
              "  .colab-df-quickchart:hover {\n",
              "    background-color: var(--hover-bg-color);\n",
              "    box-shadow: 0 1px 2px rgba(60, 64, 67, 0.3), 0 1px 3px 1px rgba(60, 64, 67, 0.15);\n",
              "    fill: var(--button-hover-fill-color);\n",
              "  }\n",
              "\n",
              "  .colab-df-quickchart-complete:disabled,\n",
              "  .colab-df-quickchart-complete:disabled:hover {\n",
              "    background-color: var(--disabled-bg-color);\n",
              "    fill: var(--disabled-fill-color);\n",
              "    box-shadow: none;\n",
              "  }\n",
              "\n",
              "  .colab-df-spinner {\n",
              "    border: 2px solid var(--fill-color);\n",
              "    border-color: transparent;\n",
              "    border-bottom-color: var(--fill-color);\n",
              "    animation:\n",
              "      spin 1s steps(1) infinite;\n",
              "  }\n",
              "\n",
              "  @keyframes spin {\n",
              "    0% {\n",
              "      border-color: transparent;\n",
              "      border-bottom-color: var(--fill-color);\n",
              "      border-left-color: var(--fill-color);\n",
              "    }\n",
              "    20% {\n",
              "      border-color: transparent;\n",
              "      border-left-color: var(--fill-color);\n",
              "      border-top-color: var(--fill-color);\n",
              "    }\n",
              "    30% {\n",
              "      border-color: transparent;\n",
              "      border-left-color: var(--fill-color);\n",
              "      border-top-color: var(--fill-color);\n",
              "      border-right-color: var(--fill-color);\n",
              "    }\n",
              "    40% {\n",
              "      border-color: transparent;\n",
              "      border-right-color: var(--fill-color);\n",
              "      border-top-color: var(--fill-color);\n",
              "    }\n",
              "    60% {\n",
              "      border-color: transparent;\n",
              "      border-right-color: var(--fill-color);\n",
              "    }\n",
              "    80% {\n",
              "      border-color: transparent;\n",
              "      border-right-color: var(--fill-color);\n",
              "      border-bottom-color: var(--fill-color);\n",
              "    }\n",
              "    90% {\n",
              "      border-color: transparent;\n",
              "      border-bottom-color: var(--fill-color);\n",
              "    }\n",
              "  }\n",
              "</style>\n",
              "\n",
              "  <script>\n",
              "    async function quickchart(key) {\n",
              "      const quickchartButtonEl =\n",
              "        document.querySelector('#' + key + ' button');\n",
              "      quickchartButtonEl.disabled = true;  // To prevent multiple clicks.\n",
              "      quickchartButtonEl.classList.add('colab-df-spinner');\n",
              "      try {\n",
              "        const charts = await google.colab.kernel.invokeFunction(\n",
              "            'suggestCharts', [key], {});\n",
              "      } catch (error) {\n",
              "        console.error('Error during call to suggestCharts:', error);\n",
              "      }\n",
              "      quickchartButtonEl.classList.remove('colab-df-spinner');\n",
              "      quickchartButtonEl.classList.add('colab-df-quickchart-complete');\n",
              "    }\n",
              "    (() => {\n",
              "      let quickchartButtonEl =\n",
              "        document.querySelector('#df-cdd13201-51c0-47d9-9a5d-7d64397ed465 button');\n",
              "      quickchartButtonEl.style.display =\n",
              "        google.colab.kernel.accessAllowed ? 'block' : 'none';\n",
              "    })();\n",
              "  </script>\n",
              "</div>\n",
              "\n",
              "    </div>\n",
              "  </div>\n"
            ],
            "application/vnd.google.colaboratory.intrinsic+json": {
              "type": "dataframe",
              "variable_name": "bankdata"
            }
          },
          "metadata": {},
          "execution_count": 1
        }
      ],
      "source": [
        "#importing all neccessary libraries\n",
        "import warnings\n",
        "warnings.filterwarnings(\"ignore\")\n",
        "\n",
        "import numpy as np\n",
        "import pandas as pd\n",
        "import io\n",
        "import requests\n",
        "\n",
        "#uploading the dataset\n",
        "df_url = 'https://raw.githubusercontent.com/AnjuSalyGeorge/Bank_Marketing_ML_model/main/bank-additional-full.csv'\n",
        "url_content = requests.get(df_url, verify=False).content\n",
        "bankdata = pd.read_csv(io.StringIO(url_content.decode('utf-8')))\n",
        "bankdata.head(3).T"
      ]
    },
    {
      "cell_type": "code",
      "execution_count": 2,
      "metadata": {
        "id": "x9aEYz7Q6OrT"
      },
      "outputs": [],
      "source": [
        "#standardizing column names\n",
        "new_column_names = {\n",
        "    'age': 'age',\n",
        "    'job': 'job',\n",
        "    'marital': 'marital',\n",
        "    'education':'education',\n",
        "    'default':'default',\n",
        "    'housing':'housing',\n",
        "    'loan':'loan',\n",
        "    'contact':'contact',\n",
        "    'month':'month',\n",
        "    'day_of_week':'day_of_week',\n",
        "    'duration':'duration',\n",
        "    'campaign':'campaign',\n",
        "    'pdays':'pdays',\n",
        "    'previous':'previous',\n",
        "    'poutcome':'poutcome',\n",
        "    'emp.var.rate':'emp_var_rate',\n",
        "    'cons.price.idx':'cons_price_idx',\n",
        "    'cons.conf.idx':'cons_conf_idx',\n",
        "    'euribor3m':'euribor3m',\n",
        "    'nr.employed':'nr_employed',\n",
        "    'y':'term_deposit_subscription'\n",
        "}\n",
        "bankdata=bankdata.rename(columns=new_column_names)"
      ]
    },
    {
      "cell_type": "code",
      "execution_count": 3,
      "metadata": {
        "colab": {
          "base_uri": "https://localhost:8080/"
        },
        "id": "qz05iVLQxn_3",
        "outputId": "8c97b8ab-cdf5-4601-8768-af691c767e6f"
      },
      "outputs": [
        {
          "output_type": "execute_result",
          "data": {
            "text/plain": [
              "Index(['age', 'job', 'marital', 'education', 'default', 'housing', 'loan',\n",
              "       'contact', 'month', 'day_of_week', 'duration', 'campaign', 'pdays',\n",
              "       'previous', 'poutcome', 'emp_var_rate', 'cons_price_idx',\n",
              "       'cons_conf_idx', 'euribor3m', 'nr_employed',\n",
              "       'term_deposit_subscription'],\n",
              "      dtype='object')"
            ]
          },
          "metadata": {},
          "execution_count": 3
        }
      ],
      "source": [
        "bankdata.columns"
      ]
    },
    {
      "cell_type": "markdown",
      "metadata": {
        "id": "pCVM9Fdcxt4G"
      },
      "source": [
        "# **Creating a Baseline Model-RF model**-Features using all the numeric"
      ]
    },
    {
      "cell_type": "code",
      "execution_count": 4,
      "metadata": {
        "id": "tnDk96yYx5D9"
      },
      "outputs": [],
      "source": [
        "bankdata_BL=bankdata.copy()"
      ]
    },
    {
      "cell_type": "code",
      "execution_count": 5,
      "metadata": {
        "colab": {
          "base_uri": "https://localhost:8080/"
        },
        "id": "bZvNmka-yFEk",
        "outputId": "9af8c90b-c396-49c6-d385-91a85b5e8c8e"
      },
      "outputs": [
        {
          "output_type": "stream",
          "name": "stdout",
          "text": [
            "<class 'pandas.core.frame.DataFrame'>\n",
            "RangeIndex: 41188 entries, 0 to 41187\n",
            "Data columns (total 21 columns):\n",
            " #   Column                     Non-Null Count  Dtype  \n",
            "---  ------                     --------------  -----  \n",
            " 0   age                        41188 non-null  int64  \n",
            " 1   job                        41188 non-null  object \n",
            " 2   marital                    41188 non-null  object \n",
            " 3   education                  41188 non-null  object \n",
            " 4   default                    41188 non-null  object \n",
            " 5   housing                    41188 non-null  object \n",
            " 6   loan                       41188 non-null  object \n",
            " 7   contact                    41188 non-null  object \n",
            " 8   month                      41188 non-null  object \n",
            " 9   day_of_week                41188 non-null  object \n",
            " 10  duration                   41188 non-null  int64  \n",
            " 11  campaign                   41188 non-null  int64  \n",
            " 12  pdays                      41188 non-null  int64  \n",
            " 13  previous                   41188 non-null  int64  \n",
            " 14  poutcome                   41188 non-null  object \n",
            " 15  emp_var_rate               41188 non-null  float64\n",
            " 16  cons_price_idx             41188 non-null  float64\n",
            " 17  cons_conf_idx              41188 non-null  float64\n",
            " 18  euribor3m                  41188 non-null  float64\n",
            " 19  nr_employed                41188 non-null  float64\n",
            " 20  term_deposit_subscription  41188 non-null  object \n",
            "dtypes: float64(5), int64(5), object(11)\n",
            "memory usage: 6.6+ MB\n"
          ]
        }
      ],
      "source": [
        "bankdata_BL.info()"
      ]
    },
    {
      "cell_type": "code",
      "execution_count": 6,
      "metadata": {
        "id": "H6l3DZkzyG8i"
      },
      "outputs": [],
      "source": [
        "bankdata_BL['term_deposit_subscription'] = bankdata_BL['term_deposit_subscription'].map({'no': 0, 'yes': 1})"
      ]
    },
    {
      "cell_type": "code",
      "execution_count": 7,
      "metadata": {
        "id": "mVws2s6PyPFS"
      },
      "outputs": [],
      "source": [
        "X = bankdata_BL.select_dtypes(include=np.number).drop('term_deposit_subscription', axis=1)\n",
        "y=bankdata_BL['term_deposit_subscription']"
      ]
    },
    {
      "cell_type": "code",
      "execution_count": 8,
      "metadata": {
        "colab": {
          "base_uri": "https://localhost:8080/"
        },
        "id": "35eFU9T-ySEQ",
        "outputId": "7603b67e-8489-4769-d6f0-0766ff98e68c"
      },
      "outputs": [
        {
          "output_type": "stream",
          "name": "stdout",
          "text": [
            "Average OOB Score over 10 runs: 0.9110\n"
          ]
        }
      ],
      "source": [
        "from sklearn.ensemble import RandomForestClassifier\n",
        "avg_oob=[]\n",
        "for i in range(10):\n",
        "    rf = RandomForestClassifier(n_estimators=100,\n",
        "                           n_jobs=-1,\n",
        "                           oob_score=True)          #Instantiate RandomForestRegressor with 100 trees in the forest\n",
        "    rf.fit(X,y)                                     #Fit the Baseline  model\n",
        "    oob_score = rf.oob_score_                       #Get the oob score from fitted model\n",
        "    avg_oob.append(oob_score)\n",
        "average_oob_score_baseline = np.mean(avg_oob)       #calculate the average oob score over the 10 iterations\n",
        "print(f\"Average OOB Score over 10 runs: {average_oob_score_baseline:.4f}\")"
      ]
    },
    {
      "cell_type": "code",
      "execution_count": 9,
      "metadata": {
        "colab": {
          "base_uri": "https://localhost:8080/"
        },
        "id": "uag2tJK7yhgx",
        "outputId": "831ec5b7-9d1c-43c6-acf3-ab4ad97919ba"
      },
      "outputs": [
        {
          "output_type": "stream",
          "name": "stdout",
          "text": [
            "Score: 0.9998057686704865\n"
          ]
        }
      ],
      "source": [
        "rf = RandomForestClassifier(n_estimators=100)\n",
        "rf.fit(X, y)\n",
        "print(\"Score:\", rf.score(X, y))"
      ]
    },
    {
      "cell_type": "markdown",
      "metadata": {
        "id": "RmGxbu4byrYo"
      },
      "source": [
        "**The baseline model, using all numeric features, initially shows high accuracy (~99%) before data cleaning and preparation. This high accuracy may be misleading if the dataset is heavily imbalanced, as the model could achieve this by predominantly predicting the majority class. Additionally, the presence of irrelevant or highly correlated features before preprocessing can lead the model to exploit spurious patterns. Duplicated data can further cause the model to memorize training examples instead of learning generalizable patterns, especially if duplicates exist in both the training and testing sets. Therefore, the next steps involve data denoisinng, exploratory data analysis (EDA), and preprocessing to ensure the robustness of the final machine learning models.**"
      ]
    },
    {
      "cell_type": "markdown",
      "metadata": {
        "id": "N0dIvQ6ay-em"
      },
      "source": [
        "# **Data Cleaning**"
      ]
    },
    {
      "cell_type": "code",
      "execution_count": 10,
      "metadata": {
        "colab": {
          "base_uri": "https://localhost:8080/",
          "height": 742
        },
        "id": "ydSaSxDIytQM",
        "outputId": "ac2390da-3408-4bf4-fa71-a30175676222"
      },
      "outputs": [
        {
          "output_type": "execute_result",
          "data": {
            "text/plain": [
              "age                          0\n",
              "job                          0\n",
              "marital                      0\n",
              "education                    0\n",
              "default                      0\n",
              "housing                      0\n",
              "loan                         0\n",
              "contact                      0\n",
              "month                        0\n",
              "day_of_week                  0\n",
              "duration                     0\n",
              "campaign                     0\n",
              "pdays                        0\n",
              "previous                     0\n",
              "poutcome                     0\n",
              "emp_var_rate                 0\n",
              "cons_price_idx               0\n",
              "cons_conf_idx                0\n",
              "euribor3m                    0\n",
              "nr_employed                  0\n",
              "term_deposit_subscription    0\n",
              "dtype: int64"
            ],
            "text/html": [
              "<div>\n",
              "<style scoped>\n",
              "    .dataframe tbody tr th:only-of-type {\n",
              "        vertical-align: middle;\n",
              "    }\n",
              "\n",
              "    .dataframe tbody tr th {\n",
              "        vertical-align: top;\n",
              "    }\n",
              "\n",
              "    .dataframe thead th {\n",
              "        text-align: right;\n",
              "    }\n",
              "</style>\n",
              "<table border=\"1\" class=\"dataframe\">\n",
              "  <thead>\n",
              "    <tr style=\"text-align: right;\">\n",
              "      <th></th>\n",
              "      <th>0</th>\n",
              "    </tr>\n",
              "  </thead>\n",
              "  <tbody>\n",
              "    <tr>\n",
              "      <th>age</th>\n",
              "      <td>0</td>\n",
              "    </tr>\n",
              "    <tr>\n",
              "      <th>job</th>\n",
              "      <td>0</td>\n",
              "    </tr>\n",
              "    <tr>\n",
              "      <th>marital</th>\n",
              "      <td>0</td>\n",
              "    </tr>\n",
              "    <tr>\n",
              "      <th>education</th>\n",
              "      <td>0</td>\n",
              "    </tr>\n",
              "    <tr>\n",
              "      <th>default</th>\n",
              "      <td>0</td>\n",
              "    </tr>\n",
              "    <tr>\n",
              "      <th>housing</th>\n",
              "      <td>0</td>\n",
              "    </tr>\n",
              "    <tr>\n",
              "      <th>loan</th>\n",
              "      <td>0</td>\n",
              "    </tr>\n",
              "    <tr>\n",
              "      <th>contact</th>\n",
              "      <td>0</td>\n",
              "    </tr>\n",
              "    <tr>\n",
              "      <th>month</th>\n",
              "      <td>0</td>\n",
              "    </tr>\n",
              "    <tr>\n",
              "      <th>day_of_week</th>\n",
              "      <td>0</td>\n",
              "    </tr>\n",
              "    <tr>\n",
              "      <th>duration</th>\n",
              "      <td>0</td>\n",
              "    </tr>\n",
              "    <tr>\n",
              "      <th>campaign</th>\n",
              "      <td>0</td>\n",
              "    </tr>\n",
              "    <tr>\n",
              "      <th>pdays</th>\n",
              "      <td>0</td>\n",
              "    </tr>\n",
              "    <tr>\n",
              "      <th>previous</th>\n",
              "      <td>0</td>\n",
              "    </tr>\n",
              "    <tr>\n",
              "      <th>poutcome</th>\n",
              "      <td>0</td>\n",
              "    </tr>\n",
              "    <tr>\n",
              "      <th>emp_var_rate</th>\n",
              "      <td>0</td>\n",
              "    </tr>\n",
              "    <tr>\n",
              "      <th>cons_price_idx</th>\n",
              "      <td>0</td>\n",
              "    </tr>\n",
              "    <tr>\n",
              "      <th>cons_conf_idx</th>\n",
              "      <td>0</td>\n",
              "    </tr>\n",
              "    <tr>\n",
              "      <th>euribor3m</th>\n",
              "      <td>0</td>\n",
              "    </tr>\n",
              "    <tr>\n",
              "      <th>nr_employed</th>\n",
              "      <td>0</td>\n",
              "    </tr>\n",
              "    <tr>\n",
              "      <th>term_deposit_subscription</th>\n",
              "      <td>0</td>\n",
              "    </tr>\n",
              "  </tbody>\n",
              "</table>\n",
              "</div><br><label><b>dtype:</b> int64</label>"
            ]
          },
          "metadata": {},
          "execution_count": 10
        }
      ],
      "source": [
        "bankdata.isnull().sum()"
      ]
    },
    {
      "cell_type": "code",
      "execution_count": 11,
      "metadata": {
        "colab": {
          "base_uri": "https://localhost:8080/"
        },
        "id": "t9pd1ZBWzTdY",
        "outputId": "aa5929da-7ef1-42f1-c8b6-9ba8ed213584"
      },
      "outputs": [
        {
          "output_type": "execute_result",
          "data": {
            "text/plain": [
              "12"
            ]
          },
          "metadata": {},
          "execution_count": 11
        }
      ],
      "source": [
        "bankdata.duplicated().sum()"
      ]
    },
    {
      "cell_type": "code",
      "execution_count": 12,
      "metadata": {
        "colab": {
          "base_uri": "https://localhost:8080/"
        },
        "id": "5vE545AHzYTg",
        "outputId": "7762f95c-f93e-4b7d-a1d8-e00feb62a34c"
      },
      "outputs": [
        {
          "output_type": "execute_result",
          "data": {
            "text/plain": [
              "0"
            ]
          },
          "metadata": {},
          "execution_count": 12
        }
      ],
      "source": [
        "# Dropping duplicate rows\n",
        "bankdata = bankdata.drop_duplicates()\n",
        "bankdata.duplicated().sum()"
      ]
    },
    {
      "cell_type": "code",
      "execution_count": 13,
      "metadata": {
        "id": "ixoQFZjazeUu"
      },
      "outputs": [],
      "source": [
        "#Drop unnecessory column contact\n",
        "bankdata = bankdata.drop('contact', axis=1)"
      ]
    },
    {
      "cell_type": "code",
      "execution_count": 14,
      "metadata": {
        "colab": {
          "base_uri": "https://localhost:8080/"
        },
        "id": "kl3Vp2zoz56c",
        "outputId": "68de92fb-fbb3-4614-b5a1-656e92fc2d86"
      },
      "outputs": [
        {
          "output_type": "stream",
          "name": "stdout",
          "text": [
            "<class 'pandas.core.frame.DataFrame'>\n",
            "Index: 41176 entries, 0 to 41187\n",
            "Data columns (total 20 columns):\n",
            " #   Column                     Non-Null Count  Dtype  \n",
            "---  ------                     --------------  -----  \n",
            " 0   age                        41176 non-null  int64  \n",
            " 1   job                        41176 non-null  object \n",
            " 2   marital                    41176 non-null  object \n",
            " 3   education                  41176 non-null  object \n",
            " 4   default                    41176 non-null  object \n",
            " 5   housing                    41176 non-null  object \n",
            " 6   loan                       41176 non-null  object \n",
            " 7   month                      41176 non-null  object \n",
            " 8   day_of_week                41176 non-null  object \n",
            " 9   duration                   41176 non-null  int64  \n",
            " 10  campaign                   41176 non-null  int64  \n",
            " 11  pdays                      41176 non-null  int64  \n",
            " 12  previous                   41176 non-null  int64  \n",
            " 13  poutcome                   41176 non-null  object \n",
            " 14  emp_var_rate               41176 non-null  float64\n",
            " 15  cons_price_idx             41176 non-null  float64\n",
            " 16  cons_conf_idx              41176 non-null  float64\n",
            " 17  euribor3m                  41176 non-null  float64\n",
            " 18  nr_employed                41176 non-null  float64\n",
            " 19  term_deposit_subscription  41176 non-null  object \n",
            "dtypes: float64(5), int64(5), object(10)\n",
            "memory usage: 6.6+ MB\n"
          ]
        }
      ],
      "source": [
        "bankdata.info()"
      ]
    },
    {
      "cell_type": "markdown",
      "metadata": {
        "id": "tWHhhssfn4-h"
      },
      "source": [
        "# **Exploratory Data Analysis (EDA)**"
      ]
    },
    {
      "cell_type": "code",
      "execution_count": 15,
      "metadata": {
        "id": "WzRxVzS8n5mB"
      },
      "outputs": [],
      "source": [
        "#Encode target variable into 0 and 1\n",
        "bankdata['term_deposit_subscription'] = bankdata['term_deposit_subscription'].map({'no': 0, 'yes': 1})"
      ]
    },
    {
      "cell_type": "markdown",
      "metadata": {
        "id": "hcKl7HV9p9jk"
      },
      "source": [
        "### **Find Correlation between Numeric Variables**"
      ]
    },
    {
      "cell_type": "code",
      "execution_count": 16,
      "metadata": {
        "colab": {
          "base_uri": "https://localhost:8080/",
          "height": 803
        },
        "id": "FLHctlaIpPcp",
        "outputId": "5fb374b6-eb06-4741-ca68-816035e77531"
      },
      "outputs": [
        {
          "output_type": "stream",
          "name": "stdout",
          "text": [
            "[('emp_var_rate', 'euribor3m'), ('emp_var_rate', 'nr_employed'), ('euribor3m', 'nr_employed')]\n"
          ]
        },
        {
          "output_type": "display_data",
          "data": {
            "text/plain": [
              "<Figure size 1000x800 with 2 Axes>"
            ],
            "image/png": "[encoded data removed]"
          },
          "metadata": {}
        }
      ],
      "source": [
        "#There is no varibles that have absolute correlation 1 with yhe target variable.\n",
        "#Check the absolute correlation among features and list pair of variable having corr >0.8\n",
        "\n",
        "#Import necessory libraries\n",
        "import matplotlib.pyplot as plt\n",
        "import seaborn as sns\n",
        "\n",
        "# Calculate absolute correlations between numeric variables\n",
        "correlations = bankdata[['age', 'duration', 'campaign', 'pdays', 'previous',\n",
        "                        'emp_var_rate', 'cons_price_idx', 'cons_conf_idx',\n",
        "                        'euribor3m', 'nr_employed']].corr().abs()\n",
        "\n",
        "# Find pairs of variables with absolute correlation of 0.8 or more\n",
        "variables_with_high_corr = []\n",
        "for i in range(len(correlations.columns)):\n",
        "    for j in range(i + 1, len(correlations.columns)):\n",
        "        if correlations.iloc[i, j] >= 0.8:\n",
        "            variables_with_high_corr.append((correlations.columns[i], correlations.columns[j]))\n",
        "\n",
        "print(variables_with_high_corr)\n",
        "\n",
        "# Plot the correlation matrix\n",
        "plt.figure(figsize=(10, 8))\n",
        "sns.heatmap(correlations, annot=True, cmap='coolwarm', fmt=\".2f\")\n",
        "plt.title('Correlation Matrix of Numeric Variables')\n",
        "plt.show()"
      ]
    },
    {
      "cell_type": "markdown",
      "metadata": {
        "id": "Uk1wtkPEYfmX"
      },
      "source": [
        "**High correlation (greater than 0.8) between two variables, it indicates multicollinearity.emp_var_rate has a very high correlation with both euribor3m (0.97) and nr_employed (0.91).So we drop the variable emp_var_rate.**"
      ]
    },
    {
      "cell_type": "code",
      "execution_count": 17,
      "metadata": {
        "id": "qrNkJ2w-YfOM"
      },
      "outputs": [],
      "source": [
        "# Drop variable emp_var_rate\n",
        "bankdata = bankdata.drop('emp_var_rate', axis=1)"
      ]
    },
    {
      "cell_type": "markdown",
      "metadata": {
        "id": "japc5gEht220"
      },
      "source": [
        "### **Chi-Square Test of Independence- Categorical Variables**"
      ]
    },
    {
      "cell_type": "code",
      "execution_count": 18,
      "metadata": {
        "colab": {
          "base_uri": "https://localhost:8080/",
          "height": 815
        },
        "id": "R1l8kplPud-x",
        "outputId": "6f209554-2516-4b85-ff2f-2aa558689f9b"
      },
      "outputs": [
        {
          "output_type": "stream",
          "name": "stdout",
          "text": [
            "Chi-square test for job: p-value = 0.0000\n",
            "Chi-square test for marital: p-value = 0.0000\n",
            "Chi-square test for education: p-value = 0.0000\n",
            "Chi-square test for default: p-value = 0.0000\n",
            "Chi-square test for housing: p-value = 0.0566\n",
            "Chi-square test for loan: p-value = 0.5772\n",
            "Chi-square test for month: p-value = 0.0000\n",
            "Chi-square test for day_of_week: p-value = 0.0000\n",
            "Chi-square test for poutcome: p-value = 0.0000\n",
            "\n",
            "Variables with high p-values (no significant association with target): ['housing', 'loan']\n"
          ]
        },
        {
          "output_type": "display_data",
          "data": {
            "text/plain": [
              "<Figure size 1000x600 with 1 Axes>"
            ],
            "image/png": "[encoded data removed]"
          },
          "metadata": {}
        }
      ],
      "source": [
        "# In Chi-square tests, the p-value indicates whether there is a statistically significant or not\n",
        "\n",
        "from scipy.stats import chi2_contingency\n",
        "# List of categorical variables\n",
        "categorical_vars = ['job', 'marital', 'education', 'default', 'housing', 'loan', 'month', 'day_of_week', 'poutcome']\n",
        "\n",
        "# Perform chi-square test for each categorical variable with the target variable\n",
        "high_p_value_vars = []\n",
        "for var in categorical_vars:\n",
        "    contingency_table = pd.crosstab(bankdata[var], bankdata['term_deposit_subscription'])\n",
        "    chi2, p, dof, expected = chi2_contingency(contingency_table)\n",
        "    print(f\"Chi-square test for {var}: p-value = {p:.4f}\")\n",
        "    if p > 0.05:  # Check if p-value is greater than 0.05 (indicating no significant association)\n",
        "        high_p_value_vars.append(var)\n",
        "\n",
        "print(\"\\nVariables with high p-values (no significant association with target):\", high_p_value_vars)\n",
        "\n",
        "# Plot the p-values\n",
        "plt.figure(figsize=(10, 6))\n",
        "plt.bar(categorical_vars,[chi2_contingency(pd.crosstab(bankdata[var], bankdata['term_deposit_subscription']))[1] for var in categorical_vars],color='#228B22')\n",
        "plt.xlabel('Categorical Variables')\n",
        "plt.ylabel('P-value')\n",
        "plt.title('Chi-Square Test P-values for Categorical Variables')\n",
        "plt.xticks(rotation=45, ha='right')\n",
        "plt.show()"
      ]
    },
    {
      "cell_type": "code",
      "execution_count": 19,
      "metadata": {
        "colab": {
          "base_uri": "https://localhost:8080/",
          "height": 1000
        },
        "id": "Du9ZOQyty4Of",
        "outputId": "83033548-bd99-4d2a-9f5e-1f51c74ca895"
      },
      "outputs": [
        {
          "output_type": "stream",
          "name": "stdout",
          "text": [
            "Chi-square test for job and marital: p-value = 0.0000, Cramer's V = 0.1844\n",
            "Chi-square test for job and education: p-value = 0.0000, Cramer's V = 0.3598\n",
            "Chi-square test for job and default: p-value = 0.0000, Cramer's V = 0.1530\n",
            "Chi-square test for job and housing: p-value = 0.0929, Cramer's V = 0.0195\n",
            "Chi-square test for job and loan: p-value = 0.1056, Cramer's V = 0.0193\n",
            "Chi-square test for job and month: p-value = 0.0000, Cramer's V = 0.1110\n",
            "Chi-square test for job and day_of_week: p-value = 0.0001, Cramer's V = 0.0232\n",
            "Chi-square test for job and poutcome: p-value = 0.0000, Cramer's V = 0.1009\n",
            "Chi-square test for marital and education: p-value = 0.0000, Cramer's V = 0.1170\n",
            "Chi-square test for marital and default: p-value = 0.0000, Cramer's V = 0.0958\n",
            "Chi-square test for marital and housing: p-value = 0.0449, Cramer's V = 0.0125\n",
            "Chi-square test for marital and loan: p-value = 0.7656, Cramer's V = 0.0064\n",
            "Chi-square test for marital and month: p-value = 0.0000, Cramer's V = 0.0522\n",
            "Chi-square test for marital and day_of_week: p-value = 0.0081, Cramer's V = 0.0147\n",
            "Chi-square test for marital and poutcome: p-value = 0.0000, Cramer's V = 0.0376\n",
            "Chi-square test for education and default: p-value = 0.0000, Cramer's V = 0.1709\n",
            "Chi-square test for education and housing: p-value = 0.0122, Cramer's V = 0.0186\n",
            "Chi-square test for education and loan: p-value = 0.4537, Cramer's V = 0.0130\n",
            "Chi-square test for education and month: p-value = 0.0000, Cramer's V = 0.0959\n",
            "Chi-square test for education and day_of_week: p-value = 0.0000, Cramer's V = 0.0236\n",
            "Chi-square test for education and poutcome: p-value = 0.0000, Cramer's V = 0.0443\n",
            "Chi-square test for default and housing: p-value = 0.0105, Cramer's V = 0.0126\n",
            "Chi-square test for default and loan: p-value = 0.3785, Cramer's V = 0.0071\n",
            "Chi-square test for default and month: p-value = 0.0000, Cramer's V = 0.1129\n",
            "Chi-square test for default and day_of_week: p-value = 0.0178, Cramer's V = 0.0150\n",
            "Chi-square test for default and poutcome: p-value = 0.0000, Cramer's V = 0.0770\n",
            "Chi-square test for housing and loan: p-value = 0.0000, Cramer's V = 0.7079\n",
            "Chi-square test for housing and month: p-value = 0.0000, Cramer's V = 0.0562\n",
            "Chi-square test for housing and day_of_week: p-value = 0.0011, Cramer's V = 0.0177\n",
            "Chi-square test for housing and poutcome: p-value = 0.0000, Cramer's V = 0.0183\n",
            "Chi-square test for loan and month: p-value = 0.0001, Cramer's V = 0.0247\n",
            "Chi-square test for loan and day_of_week: p-value = 0.2008, Cramer's V = 0.0116\n",
            "Chi-square test for loan and poutcome: p-value = 0.8097, Cramer's V = 0.0044\n",
            "Chi-square test for month and day_of_week: p-value = 0.0000, Cramer's V = 0.0682\n",
            "Chi-square test for month and poutcome: p-value = 0.0000, Cramer's V = 0.2429\n",
            "Chi-square test for day_of_week and poutcome: p-value = 0.0013, Cramer's V = 0.0176\n"
          ]
        },
        {
          "output_type": "display_data",
          "data": {
            "text/plain": [
              "<Figure size 1000x800 with 2 Axes>"
            ],
            "image/png": "[encoded data removed]"
          },
          "metadata": {}
        },
        {
          "output_type": "stream",
          "name": "stdout",
          "text": [
            "\n",
            "Pairs of variables with high Cramer's V (potential multicollinearity): [('housing', 'loan')]\n"
          ]
        }
      ],
      "source": [
        "# Find Cramer's V value amoung Categorical features\n",
        "#A low Cramer's V value indicates a weak association, even if the p-value is statistically significant\n",
        "\n",
        "# Initialize a matrix to store Cramer's V values\n",
        "cramers_v_matrix = np.zeros((len(categorical_vars), len(categorical_vars)))\n",
        "\n",
        "# Perform chi-square test for each pair of categorical variables\n",
        "for i in range(len(categorical_vars)):\n",
        "  for j in range(i + 1, len(categorical_vars)):\n",
        "    var1 = categorical_vars[i]\n",
        "    var2 = categorical_vars[j]\n",
        "    contingency_table = pd.crosstab(bankdata[var1], bankdata[var2])\n",
        "    chi2, p, dof, expected = chi2_contingency(contingency_table)\n",
        "\n",
        "    # Calculate Cramer's V\n",
        "    n = contingency_table.sum().sum()\n",
        "    phi2 = chi2 / n\n",
        "    min_dim = min(contingency_table.shape) - 1\n",
        "    cramers_v = np.sqrt(phi2 / min_dim)\n",
        "\n",
        "    # Store Cramer's V in the matrix\n",
        "    cramers_v_matrix[i, j] = cramers_v\n",
        "    cramers_v_matrix[j, i] = cramers_v # Make the matrix symmetric\n",
        "    print(f\"Chi-square test for {var1} and {var2}: p-value = {p:.4f}, Cramer's V = {cramers_v:.4f}\")\n",
        "\n",
        "# Create a DataFrame from the Cramer's V matrix\n",
        "cramers_v_df = pd.DataFrame(cramers_v_matrix, index=categorical_vars, columns=categorical_vars)\n",
        "\n",
        "# Plot Cramer's V values using a heatmap\n",
        "plt.figure(figsize=(10, 8))\n",
        "sns.heatmap(cramers_v_df, annot=True, cmap='coolwarm', fmt=\".2f\")\n",
        "plt.title(\"Cramer's V for Categorical Variables\")\n",
        "plt.show()\n",
        "\n",
        "# Identify variables with high Cramer's V (potential multicollinearity)\n",
        "high_cramers_v_pairs = []\n",
        "for i in range(len(categorical_vars)):\n",
        "  for j in range(i + 1, len(categorical_vars)):\n",
        "    if cramers_v_matrix[i, j] >= 0.5:  # Adjust threshold as needed\n",
        "      high_cramers_v_pairs.append((categorical_vars[i], categorical_vars[j]))\n",
        "\n",
        "print(\"\\nPairs of variables with high Cramer's V (potential multicollinearity):\", high_cramers_v_pairs)"
      ]
    },
    {
      "cell_type": "markdown",
      "metadata": {
        "id": "ox7OC02vziZR"
      },
      "source": [
        "##### **Analysis of the above tests**<br>\n",
        "**default and loan are two columns that seem to have the least relevance based on the statistical tests.Both columns also exhibits weak associations with other variables.p-value is higher for both default and loan suggesting that the relationship between the target variable and these 2 features might not be statistically significant.**\n"
      ]
    },
    {
      "cell_type": "code",
      "execution_count": 20,
      "metadata": {
        "id": "0AQWtZ9S0zTs"
      },
      "outputs": [],
      "source": [
        "# Remove default and loan columns\n",
        "bankdata = bankdata.drop(['default', 'loan'], axis=1)"
      ]
    },
    {
      "cell_type": "markdown",
      "metadata": {
        "id": "FSgqRB0lzVHF"
      },
      "source": [
        "##### **Denoising data by removing outliers**"
      ]
    },
    {
      "cell_type": "code",
      "execution_count": 21,
      "metadata": {
        "colab": {
          "base_uri": "https://localhost:8080/",
          "height": 564
        },
        "id": "5B6XgfDCzjLa",
        "outputId": "c68750d4-93e3-44d6-f3e4-5864e3fe8011"
      },
      "outputs": [
        {
          "output_type": "display_data",
          "data": {
            "text/plain": [
              "<Figure size 800x600 with 1 Axes>"
            ],
            "image/png": "[encoded data removed]"
          },
          "metadata": {}
        }
      ],
      "source": [
        "#Box plot of age\n",
        "\n",
        "plt.figure(figsize=(8, 6))\n",
        "sns.boxplot(x=bankdata['age'], color='green')\n",
        "plt.title(f'Box Plot for age')\n",
        "plt.xlabel('age')\n",
        "plt.show()"
      ]
    },
    {
      "cell_type": "code",
      "execution_count": 22,
      "metadata": {
        "colab": {
          "base_uri": "https://localhost:8080/",
          "height": 564
        },
        "id": "35SQ75dE2qL_",
        "outputId": "87c34432-7141-4048-a6da-cc5239528cd5"
      },
      "outputs": [
        {
          "output_type": "display_data",
          "data": {
            "text/plain": [
              "<Figure size 800x600 with 1 Axes>"
            ],
            "image/png": "[encoded data removed]"
          },
          "metadata": {}
        }
      ],
      "source": [
        "# Box plot of Campaign\n",
        "\n",
        "plt.figure(figsize=(8, 6))\n",
        "sns.boxplot(x=bankdata['campaign'], color='green')\n",
        "plt.title(f'Box Plot for campaign')\n",
        "plt.xlabel('campaign')\n",
        "plt.show()"
      ]
    },
    {
      "cell_type": "code",
      "execution_count": 23,
      "metadata": {
        "colab": {
          "base_uri": "https://localhost:8080/",
          "height": 564
        },
        "id": "sUABkdLi22j4",
        "outputId": "fe83f04a-2899-4894-c234-ecffe2a3d63a"
      },
      "outputs": [
        {
          "output_type": "display_data",
          "data": {
            "text/plain": [
              "<Figure size 800x600 with 1 Axes>"
            ],
            "image/png": "[encoded data removed]"
          },
          "metadata": {}
        }
      ],
      "source": [
        "# Boxplot of duration\n",
        "\n",
        "plt.figure(figsize=(8, 6))\n",
        "sns.boxplot(x=bankdata['duration'], color='green')\n",
        "plt.title(f'Box Plot for duration')\n",
        "plt.xlabel('duration')\n",
        "plt.show()"
      ]
    },
    {
      "cell_type": "code",
      "execution_count": 24,
      "metadata": {
        "id": "CY-RgQbl3OmF"
      },
      "outputs": [],
      "source": [
        "# Remove outliers from these features\n",
        "\n",
        "# Removing outliers from 'age'\n",
        "lower_bound_age = 15\n",
        "upper_bound_age = 70\n",
        "bankdata = bankdata[(bankdata['age'] >= lower_bound_age) & (bankdata['age'] <= upper_bound_age)]\n",
        "\n",
        "# Removing outliers from 'campaign'\n",
        "lower_bound_campaign = 1\n",
        "upper_bound_campaign = 10\n",
        "bankdata = bankdata[(bankdata['campaign'] >= lower_bound_campaign) & (bankdata['campaign'] <= upper_bound_campaign)]\n",
        "\n",
        "# Removing outliers from 'duration'\n",
        "lower_bound_duration = 0\n",
        "upper_bound_duration = 1000\n",
        "bankdata = bankdata[(bankdata['duration'] >= lower_bound_duration) & (bankdata['duration'] <= upper_bound_duration)]\n"
      ]
    },
    {
      "cell_type": "code",
      "execution_count": 25,
      "metadata": {
        "colab": {
          "base_uri": "https://localhost:8080/"
        },
        "id": "C0s2ahhu3bLW",
        "outputId": "82edec68-e7dd-4073-fec1-21d2c1f3ec01"
      },
      "outputs": [
        {
          "output_type": "execute_result",
          "data": {
            "text/plain": [
              "(38956, 17)"
            ]
          },
          "metadata": {},
          "execution_count": 25
        }
      ],
      "source": [
        "bankdata.shape"
      ]
    },
    {
      "cell_type": "markdown",
      "metadata": {
        "id": "s8LGgrSL0mY9"
      },
      "source": [
        "## **Encoding Categorical variables**"
      ]
    },
    {
      "cell_type": "code",
      "execution_count": 26,
      "metadata": {
        "colab": {
          "base_uri": "https://localhost:8080/"
        },
        "id": "h4oDUcrFIoWs",
        "outputId": "af247910-a2bc-4166-9df7-130a402d9837"
      },
      "outputs": [
        {
          "output_type": "execute_result",
          "data": {
            "text/plain": [
              "Index(['age', 'job', 'marital', 'education', 'housing', 'month', 'day_of_week',\n",
              "       'duration', 'campaign', 'pdays', 'previous', 'poutcome',\n",
              "       'cons_price_idx', 'cons_conf_idx', 'euribor3m', 'nr_employed',\n",
              "       'term_deposit_subscription'],\n",
              "      dtype='object')"
            ]
          },
          "metadata": {},
          "execution_count": 26
        }
      ],
      "source": [
        "bankdata.columns"
      ]
    },
    {
      "cell_type": "code",
      "execution_count": 27,
      "metadata": {
        "colab": {
          "base_uri": "https://localhost:8080/"
        },
        "id": "JUvVhGu1dcDo",
        "outputId": "6a9df2ac-f6dd-4fb8-ff41-83ffd5e74085"
      },
      "outputs": [
        {
          "output_type": "stream",
          "name": "stdout",
          "text": [
            "Value counts for job (including NaN):\n",
            "job\n",
            "admin.           9927\n",
            "blue-collar      8828\n",
            "technician       6466\n",
            "services         3804\n",
            "management       2802\n",
            "entrepreneur     1386\n",
            "self-employed    1350\n",
            "retired          1273\n",
            "housemaid         991\n",
            "unemployed        971\n",
            "student           849\n",
            "unknown           309\n",
            "Name: count, dtype: int64\n",
            "\n",
            "Value counts for marital (including NaN):\n",
            "marital\n",
            "married     23544\n",
            "single      11033\n",
            "divorced     4305\n",
            "unknown        74\n",
            "Name: count, dtype: int64\n",
            "\n",
            "Value counts for education (including NaN):\n",
            "education\n",
            "university.degree      11577\n",
            "high.school             9052\n",
            "basic.9y                5763\n",
            "professional.course     4992\n",
            "basic.4y                3779\n",
            "basic.6y                2174\n",
            "unknown                 1603\n",
            "illiterate                16\n",
            "Name: count, dtype: int64\n",
            "\n",
            "Value counts for housing (including NaN):\n",
            "housing\n",
            "yes        20445\n",
            "no         17573\n",
            "unknown      938\n",
            "Name: count, dtype: int64\n",
            "\n",
            "Value counts for poutcome (including NaN):\n",
            "poutcome\n",
            "nonexistent    33621\n",
            "failure         4075\n",
            "success         1260\n",
            "Name: count, dtype: int64\n",
            "\n"
          ]
        }
      ],
      "source": [
        "# Value counts for variables with \"unknown\" values (including NaN)\n",
        "for column in ['job', 'marital', 'education', 'housing', 'poutcome']:\n",
        "    print(f\"Value counts for {column} (including NaN):\\n{bankdata[column].value_counts(dropna=False)}\\n\")\n"
      ]
    },
    {
      "cell_type": "code",
      "execution_count": 28,
      "metadata": {
        "id": "uiC0KeLD0y_I"
      },
      "outputs": [],
      "source": [
        "#Cyclic Encoding\n",
        "\n",
        "import math\n",
        "\n",
        "# Mapping month and day features to numerical values\n",
        "month_mapping = {\n",
        "    'jan': 1, 'feb': 2, 'mar': 3, 'apr': 4,\n",
        "    'may': 5, 'jun': 6, 'jul': 7, 'aug': 8,\n",
        "    'sep': 9, 'oct': 10, 'nov': 11, 'dec': 12\n",
        "}\n",
        "day_mapping = {\n",
        "    'mon': 1, 'tue': 2, 'wed': 3, 'thu': 4,\n",
        "    'fri': 5, 'sat': 6, 'sun': 7\n",
        "}\n",
        "\n",
        "bankdata['month'] = bankdata['month'].map(month_mapping)\n",
        "bankdata['day_of_week'] = bankdata['day_of_week'].map(day_mapping)\n",
        "\n",
        "# Cyclic encoding for 'month'\n",
        "bankdata['month_sin'] = np.sin(2 * np.pi * bankdata['month'] / 12)\n",
        "bankdata['month_cos'] = np.cos(2 * np.pi * bankdata['month'] / 12)\n",
        "\n",
        "# Cyclic encoding for 'day_of_week'\n",
        "bankdata['day_sin'] = np.sin(2 * np.pi * bankdata['day_of_week'] / 7)\n",
        "bankdata['day_cos'] = np.cos(2 * np.pi * bankdata['day_of_week'] / 7)\n",
        "\n",
        "# Drop original 'month' and 'day_of_week' columns\n",
        "bankdata = bankdata.drop(['month', 'day_of_week'], axis=1)"
      ]
    },
    {
      "cell_type": "code",
      "execution_count": 29,
      "metadata": {
        "id": "6AaMbC1J1Ztk"
      },
      "outputs": [],
      "source": [
        "# One Hot Encoding\n",
        "bankdata= pd.get_dummies(bankdata, columns=['job', 'marital', 'poutcome','housing'], dummy_na=True)"
      ]
    },
    {
      "cell_type": "code",
      "execution_count": 30,
      "metadata": {
        "id": "Jxq1Dh0b1h7E"
      },
      "outputs": [],
      "source": [
        "numeric_columns = bankdata.select_dtypes(include=['bool']).columns\n",
        "\n",
        "# Convert only these numeric columns to Int64\n",
        "bankdata[numeric_columns] = bankdata[numeric_columns].astype('Int64')"
      ]
    },
    {
      "cell_type": "code",
      "execution_count": 31,
      "metadata": {
        "id": "oT4mIMn41oyh"
      },
      "outputs": [],
      "source": [
        "# Ordinal encoding for 'education'\n",
        "education_mapping = {\n",
        "    'illiterate': 0,\n",
        "    'basic.4y': 1,\n",
        "    'basic.6y': 2,\n",
        "    'basic.9y': 3,\n",
        "    'high.school': 4,\n",
        "    'professional.course': 5,\n",
        "    'university.degree': 6,\n",
        "    np.nan: np.nan  # Keep NaN values as they are\n",
        "}\n",
        "bankdata['education'] = bankdata['education'].map(education_mapping)"
      ]
    },
    {
      "cell_type": "code",
      "execution_count": 32,
      "metadata": {
        "colab": {
          "base_uri": "https://localhost:8080/"
        },
        "id": "dNZdTunE1yKp",
        "outputId": "73b60fdc-6fca-4e0f-f3e4-d4e41481891a"
      },
      "outputs": [
        {
          "output_type": "stream",
          "name": "stdout",
          "text": [
            "<class 'pandas.core.frame.DataFrame'>\n",
            "Index: 38956 entries, 0 to 41186\n",
            "Data columns (total 41 columns):\n",
            " #   Column                     Non-Null Count  Dtype  \n",
            "---  ------                     --------------  -----  \n",
            " 0   age                        38956 non-null  int64  \n",
            " 1   education                  37353 non-null  float64\n",
            " 2   duration                   38956 non-null  int64  \n",
            " 3   campaign                   38956 non-null  int64  \n",
            " 4   pdays                      38956 non-null  int64  \n",
            " 5   previous                   38956 non-null  int64  \n",
            " 6   cons_price_idx             38956 non-null  float64\n",
            " 7   cons_conf_idx              38956 non-null  float64\n",
            " 8   euribor3m                  38956 non-null  float64\n",
            " 9   nr_employed                38956 non-null  float64\n",
            " 10  term_deposit_subscription  38956 non-null  int64  \n",
            " 11  month_sin                  38956 non-null  float64\n",
            " 12  month_cos                  38956 non-null  float64\n",
            " 13  day_sin                    38956 non-null  float64\n",
            " 14  day_cos                    38956 non-null  float64\n",
            " 15  job_admin.                 38956 non-null  Int64  \n",
            " 16  job_blue-collar            38956 non-null  Int64  \n",
            " 17  job_entrepreneur           38956 non-null  Int64  \n",
            " 18  job_housemaid              38956 non-null  Int64  \n",
            " 19  job_management             38956 non-null  Int64  \n",
            " 20  job_retired                38956 non-null  Int64  \n",
            " 21  job_self-employed          38956 non-null  Int64  \n",
            " 22  job_services               38956 non-null  Int64  \n",
            " 23  job_student                38956 non-null  Int64  \n",
            " 24  job_technician             38956 non-null  Int64  \n",
            " 25  job_unemployed             38956 non-null  Int64  \n",
            " 26  job_unknown                38956 non-null  Int64  \n",
            " 27  job_nan                    38956 non-null  Int64  \n",
            " 28  marital_divorced           38956 non-null  Int64  \n",
            " 29  marital_married            38956 non-null  Int64  \n",
            " 30  marital_single             38956 non-null  Int64  \n",
            " 31  marital_unknown            38956 non-null  Int64  \n",
            " 32  marital_nan                38956 non-null  Int64  \n",
            " 33  poutcome_failure           38956 non-null  Int64  \n",
            " 34  poutcome_nonexistent       38956 non-null  Int64  \n",
            " 35  poutcome_success           38956 non-null  Int64  \n",
            " 36  poutcome_nan               38956 non-null  Int64  \n",
            " 37  housing_no                 38956 non-null  Int64  \n",
            " 38  housing_unknown            38956 non-null  Int64  \n",
            " 39  housing_yes                38956 non-null  Int64  \n",
            " 40  housing_nan                38956 non-null  Int64  \n",
            "dtypes: Int64(26), float64(9), int64(6)\n",
            "memory usage: 13.4 MB\n"
          ]
        }
      ],
      "source": [
        "bankdata.info()"
      ]
    },
    {
      "cell_type": "code",
      "execution_count": 33,
      "metadata": {
        "colab": {
          "base_uri": "https://localhost:8080/",
          "height": 1000
        },
        "id": "deg7Qwhe1_9L",
        "outputId": "511532c1-d3dd-4c88-c10a-a2436d524edb"
      },
      "outputs": [
        {
          "output_type": "execute_result",
          "data": {
            "text/plain": [
              "                                  0         1         2\n",
              "age                              56        57        37\n",
              "education                       1.0       4.0       4.0\n",
              "duration                        261       149       226\n",
              "campaign                          1         1         1\n",
              "pdays                           999       999       999\n",
              "previous                          0         0         0\n",
              "cons_price_idx               93.994    93.994    93.994\n",
              "cons_conf_idx                 -36.4     -36.4     -36.4\n",
              "euribor3m                     4.857     4.857     4.857\n",
              "nr_employed                  5191.0    5191.0    5191.0\n",
              "term_deposit_subscription         0         0         0\n",
              "month_sin                       0.5       0.5       0.5\n",
              "month_cos                 -0.866025 -0.866025 -0.866025\n",
              "day_sin                    0.781831  0.781831  0.781831\n",
              "day_cos                     0.62349   0.62349   0.62349\n",
              "job_admin.                        0         0         0\n",
              "job_blue-collar                   0         0         0\n",
              "job_entrepreneur                  0         0         0\n",
              "job_housemaid                     1         0         0\n",
              "job_management                    0         0         0\n",
              "job_retired                       0         0         0\n",
              "job_self-employed                 0         0         0\n",
              "job_services                      0         1         1\n",
              "job_student                       0         0         0\n",
              "job_technician                    0         0         0\n",
              "job_unemployed                    0         0         0\n",
              "job_unknown                       0         0         0\n",
              "job_nan                           0         0         0\n",
              "marital_divorced                  0         0         0\n",
              "marital_married                   1         1         1\n",
              "marital_single                    0         0         0\n",
              "marital_unknown                   0         0         0\n",
              "marital_nan                       0         0         0\n",
              "poutcome_failure                  0         0         0\n",
              "poutcome_nonexistent              1         1         1\n",
              "poutcome_success                  0         0         0\n",
              "poutcome_nan                      0         0         0\n",
              "housing_no                        1         1         0\n",
              "housing_unknown                   0         0         0\n",
              "housing_yes                       0         0         1\n",
              "housing_nan                       0         0         0"
            ],
            "text/html": [
              "\n",
              "  <div id=\"df-ba46acd1-c066-44d5-858c-2be358769ff3\" class=\"colab-df-container\">\n",
              "    <div>\n",
              "<style scoped>\n",
              "    .dataframe tbody tr th:only-of-type {\n",
              "        vertical-align: middle;\n",
              "    }\n",
              "\n",
              "    .dataframe tbody tr th {\n",
              "        vertical-align: top;\n",
              "    }\n",
              "\n",
              "    .dataframe thead th {\n",
              "        text-align: right;\n",
              "    }\n",
              "</style>\n",
              "<table border=\"1\" class=\"dataframe\">\n",
              "  <thead>\n",
              "    <tr style=\"text-align: right;\">\n",
              "      <th></th>\n",
              "      <th>0</th>\n",
              "      <th>1</th>\n",
              "      <th>2</th>\n",
              "    </tr>\n",
              "  </thead>\n",
              "  <tbody>\n",
              "    <tr>\n",
              "      <th>age</th>\n",
              "      <td>56</td>\n",
              "      <td>57</td>\n",
              "      <td>37</td>\n",
              "    </tr>\n",
              "    <tr>\n",
              "      <th>education</th>\n",
              "      <td>1.0</td>\n",
              "      <td>4.0</td>\n",
              "      <td>4.0</td>\n",
              "    </tr>\n",
              "    <tr>\n",
              "      <th>duration</th>\n",
              "      <td>261</td>\n",
              "      <td>149</td>\n",
              "      <td>226</td>\n",
              "    </tr>\n",
              "    <tr>\n",
              "      <th>campaign</th>\n",
              "      <td>1</td>\n",
              "      <td>1</td>\n",
              "      <td>1</td>\n",
              "    </tr>\n",
              "    <tr>\n",
              "      <th>pdays</th>\n",
              "      <td>999</td>\n",
              "      <td>999</td>\n",
              "      <td>999</td>\n",
              "    </tr>\n",
              "    <tr>\n",
              "      <th>previous</th>\n",
              "      <td>0</td>\n",
              "      <td>0</td>\n",
              "      <td>0</td>\n",
              "    </tr>\n",
              "    <tr>\n",
              "      <th>cons_price_idx</th>\n",
              "      <td>93.994</td>\n",
              "      <td>93.994</td>\n",
              "      <td>93.994</td>\n",
              "    </tr>\n",
              "    <tr>\n",
              "      <th>cons_conf_idx</th>\n",
              "      <td>-36.4</td>\n",
              "      <td>-36.4</td>\n",
              "      <td>-36.4</td>\n",
              "    </tr>\n",
              "    <tr>\n",
              "      <th>euribor3m</th>\n",
              "      <td>4.857</td>\n",
              "      <td>4.857</td>\n",
              "      <td>4.857</td>\n",
              "    </tr>\n",
              "    <tr>\n",
              "      <th>nr_employed</th>\n",
              "      <td>5191.0</td>\n",
              "      <td>5191.0</td>\n",
              "      <td>5191.0</td>\n",
              "    </tr>\n",
              "    <tr>\n",
              "      <th>term_deposit_subscription</th>\n",
              "      <td>0</td>\n",
              "      <td>0</td>\n",
              "      <td>0</td>\n",
              "    </tr>\n",
              "    <tr>\n",
              "      <th>month_sin</th>\n",
              "      <td>0.5</td>\n",
              "      <td>0.5</td>\n",
              "      <td>0.5</td>\n",
              "    </tr>\n",
              "    <tr>\n",
              "      <th>month_cos</th>\n",
              "      <td>-0.866025</td>\n",
              "      <td>-0.866025</td>\n",
              "      <td>-0.866025</td>\n",
              "    </tr>\n",
              "    <tr>\n",
              "      <th>day_sin</th>\n",
              "      <td>0.781831</td>\n",
              "      <td>0.781831</td>\n",
              "      <td>0.781831</td>\n",
              "    </tr>\n",
              "    <tr>\n",
              "      <th>day_cos</th>\n",
              "      <td>0.62349</td>\n",
              "      <td>0.62349</td>\n",
              "      <td>0.62349</td>\n",
              "    </tr>\n",
              "    <tr>\n",
              "      <th>job_admin.</th>\n",
              "      <td>0</td>\n",
              "      <td>0</td>\n",
              "      <td>0</td>\n",
              "    </tr>\n",
              "    <tr>\n",
              "      <th>job_blue-collar</th>\n",
              "      <td>0</td>\n",
              "      <td>0</td>\n",
              "      <td>0</td>\n",
              "    </tr>\n",
              "    <tr>\n",
              "      <th>job_entrepreneur</th>\n",
              "      <td>0</td>\n",
              "      <td>0</td>\n",
              "      <td>0</td>\n",
              "    </tr>\n",
              "    <tr>\n",
              "      <th>job_housemaid</th>\n",
              "      <td>1</td>\n",
              "      <td>0</td>\n",
              "      <td>0</td>\n",
              "    </tr>\n",
              "    <tr>\n",
              "      <th>job_management</th>\n",
              "      <td>0</td>\n",
              "      <td>0</td>\n",
              "      <td>0</td>\n",
              "    </tr>\n",
              "    <tr>\n",
              "      <th>job_retired</th>\n",
              "      <td>0</td>\n",
              "      <td>0</td>\n",
              "      <td>0</td>\n",
              "    </tr>\n",
              "    <tr>\n",
              "      <th>job_self-employed</th>\n",
              "      <td>0</td>\n",
              "      <td>0</td>\n",
              "      <td>0</td>\n",
              "    </tr>\n",
              "    <tr>\n",
              "      <th>job_services</th>\n",
              "      <td>0</td>\n",
              "      <td>1</td>\n",
              "      <td>1</td>\n",
              "    </tr>\n",
              "    <tr>\n",
              "      <th>job_student</th>\n",
              "      <td>0</td>\n",
              "      <td>0</td>\n",
              "      <td>0</td>\n",
              "    </tr>\n",
              "    <tr>\n",
              "      <th>job_technician</th>\n",
              "      <td>0</td>\n",
              "      <td>0</td>\n",
              "      <td>0</td>\n",
              "    </tr>\n",
              "    <tr>\n",
              "      <th>job_unemployed</th>\n",
              "      <td>0</td>\n",
              "      <td>0</td>\n",
              "      <td>0</td>\n",
              "    </tr>\n",
              "    <tr>\n",
              "      <th>job_unknown</th>\n",
              "      <td>0</td>\n",
              "      <td>0</td>\n",
              "      <td>0</td>\n",
              "    </tr>\n",
              "    <tr>\n",
              "      <th>job_nan</th>\n",
              "      <td>0</td>\n",
              "      <td>0</td>\n",
              "      <td>0</td>\n",
              "    </tr>\n",
              "    <tr>\n",
              "      <th>marital_divorced</th>\n",
              "      <td>0</td>\n",
              "      <td>0</td>\n",
              "      <td>0</td>\n",
              "    </tr>\n",
              "    <tr>\n",
              "      <th>marital_married</th>\n",
              "      <td>1</td>\n",
              "      <td>1</td>\n",
              "      <td>1</td>\n",
              "    </tr>\n",
              "    <tr>\n",
              "      <th>marital_single</th>\n",
              "      <td>0</td>\n",
              "      <td>0</td>\n",
              "      <td>0</td>\n",
              "    </tr>\n",
              "    <tr>\n",
              "      <th>marital_unknown</th>\n",
              "      <td>0</td>\n",
              "      <td>0</td>\n",
              "      <td>0</td>\n",
              "    </tr>\n",
              "    <tr>\n",
              "      <th>marital_nan</th>\n",
              "      <td>0</td>\n",
              "      <td>0</td>\n",
              "      <td>0</td>\n",
              "    </tr>\n",
              "    <tr>\n",
              "      <th>poutcome_failure</th>\n",
              "      <td>0</td>\n",
              "      <td>0</td>\n",
              "      <td>0</td>\n",
              "    </tr>\n",
              "    <tr>\n",
              "      <th>poutcome_nonexistent</th>\n",
              "      <td>1</td>\n",
              "      <td>1</td>\n",
              "      <td>1</td>\n",
              "    </tr>\n",
              "    <tr>\n",
              "      <th>poutcome_success</th>\n",
              "      <td>0</td>\n",
              "      <td>0</td>\n",
              "      <td>0</td>\n",
              "    </tr>\n",
              "    <tr>\n",
              "      <th>poutcome_nan</th>\n",
              "      <td>0</td>\n",
              "      <td>0</td>\n",
              "      <td>0</td>\n",
              "    </tr>\n",
              "    <tr>\n",
              "      <th>housing_no</th>\n",
              "      <td>1</td>\n",
              "      <td>1</td>\n",
              "      <td>0</td>\n",
              "    </tr>\n",
              "    <tr>\n",
              "      <th>housing_unknown</th>\n",
              "      <td>0</td>\n",
              "      <td>0</td>\n",
              "      <td>0</td>\n",
              "    </tr>\n",
              "    <tr>\n",
              "      <th>housing_yes</th>\n",
              "      <td>0</td>\n",
              "      <td>0</td>\n",
              "      <td>1</td>\n",
              "    </tr>\n",
              "    <tr>\n",
              "      <th>housing_nan</th>\n",
              "      <td>0</td>\n",
              "      <td>0</td>\n",
              "      <td>0</td>\n",
              "    </tr>\n",
              "  </tbody>\n",
              "</table>\n",
              "</div>\n",
              "    <div class=\"colab-df-buttons\">\n",
              "\n",
              "  <div class=\"colab-df-container\">\n",
              "    <button class=\"colab-df-convert\" onclick=\"convertToInteractive('df-ba46acd1-c066-44d5-858c-2be358769ff3')\"\n",
              "            title=\"Convert this dataframe to an interactive table.\"\n",
              "            style=\"display:none;\">\n",
              "\n",
              "  <svg xmlns=\"http://www.w3.org/2000/svg\" height=\"24px\" viewBox=\"0 -960 960 960\">\n",
              "    <path d=\"M120-120v-720h720v720H120Zm60-500h600v-160H180v160Zm220 220h160v-160H400v160Zm0 220h160v-160H400v160ZM180-400h160v-160H180v160Zm440 0h160v-160H620v160ZM180-180h160v-160H180v160Zm440 0h160v-160H620v160Z\"/>\n",
              "  </svg>\n",
              "    </button>\n",
              "\n",
              "  <style>\n",
              "    .colab-df-container {\n",
              "      display:flex;\n",
              "      gap: 12px;\n",
              "    }\n",
              "\n",
              "    .colab-df-convert {\n",
              "      background-color: #E8F0FE;\n",
              "      border: none;\n",
              "      border-radius: 50%;\n",
              "      cursor: pointer;\n",
              "      display: none;\n",
              "      fill: #1967D2;\n",
              "      height: 32px;\n",
              "      padding: 0 0 0 0;\n",
              "      width: 32px;\n",
              "    }\n",
              "\n",
              "    .colab-df-convert:hover {\n",
              "      background-color: #E2EBFA;\n",
              "      box-shadow: 0px 1px 2px rgba(60, 64, 67, 0.3), 0px 1px 3px 1px rgba(60, 64, 67, 0.15);\n",
              "      fill: #174EA6;\n",
              "    }\n",
              "\n",
              "    .colab-df-buttons div {\n",
              "      margin-bottom: 4px;\n",
              "    }\n",
              "\n",
              "    [theme=dark] .colab-df-convert {\n",
              "      background-color: #3B4455;\n",
              "      fill: #D2E3FC;\n",
              "    }\n",
              "\n",
              "    [theme=dark] .colab-df-convert:hover {\n",
              "      background-color: #434B5C;\n",
              "      box-shadow: 0px 1px 3px 1px rgba(0, 0, 0, 0.15);\n",
              "      filter: drop-shadow(0px 1px 2px rgba(0, 0, 0, 0.3));\n",
              "      fill: #FFFFFF;\n",
              "    }\n",
              "  </style>\n",
              "\n",
              "    <script>\n",
              "      const buttonEl =\n",
              "        document.querySelector('#df-ba46acd1-c066-44d5-858c-2be358769ff3 button.colab-df-convert');\n",
              "      buttonEl.style.display =\n",
              "        google.colab.kernel.accessAllowed ? 'block' : 'none';\n",
              "\n",
              "      async function convertToInteractive(key) {\n",
              "        const element = document.querySelector('#df-ba46acd1-c066-44d5-858c-2be358769ff3');\n",
              "        const dataTable =\n",
              "          await google.colab.kernel.invokeFunction('convertToInteractive',\n",
              "                                                    [key], {});\n",
              "        if (!dataTable) return;\n",
              "\n",
              "        const docLinkHtml = 'Like what you see? Visit the ' +\n",
              "          '<a target=\"_blank\" href=https://colab.research.google.com/notebooks/data_table.ipynb>data table notebook</a>'\n",
              "          + ' to learn more about interactive tables.';\n",
              "        element.innerHTML = '';\n",
              "        dataTable['output_type'] = 'display_data';\n",
              "        await google.colab.output.renderOutput(dataTable, element);\n",
              "        const docLink = document.createElement('div');\n",
              "        docLink.innerHTML = docLinkHtml;\n",
              "        element.appendChild(docLink);\n",
              "      }\n",
              "    </script>\n",
              "  </div>\n",
              "\n",
              "\n",
              "<div id=\"df-d6a15be5-01c1-4251-b9f4-f9a1737fea2a\">\n",
              "  <button class=\"colab-df-quickchart\" onclick=\"quickchart('df-d6a15be5-01c1-4251-b9f4-f9a1737fea2a')\"\n",
              "            title=\"Suggest charts\"\n",
              "            style=\"display:none;\">\n",
              "\n",
              "<svg xmlns=\"http://www.w3.org/2000/svg\" height=\"24px\"viewBox=\"0 0 24 24\"\n",
              "     width=\"24px\">\n",
              "    <g>\n",
              "        <path d=\"M19 3H5c-1.1 0-2 .9-2 2v14c0 1.1.9 2 2 2h14c1.1 0 2-.9 2-2V5c0-1.1-.9-2-2-2zM9 17H7v-7h2v7zm4 0h-2V7h2v10zm4 0h-2v-4h2v4z\"/>\n",
              "    </g>\n",
              "</svg>\n",
              "  </button>\n",
              "\n",
              "<style>\n",
              "  .colab-df-quickchart {\n",
              "      --bg-color: #E8F0FE;\n",
              "      --fill-color: #1967D2;\n",
              "      --hover-bg-color: #E2EBFA;\n",
              "      --hover-fill-color: #174EA6;\n",
              "      --disabled-fill-color: #AAA;\n",
              "      --disabled-bg-color: #DDD;\n",
              "  }\n",
              "\n",
              "  [theme=dark] .colab-df-quickchart {\n",
              "      --bg-color: #3B4455;\n",
              "      --fill-color: #D2E3FC;\n",
              "      --hover-bg-color: #434B5C;\n",
              "      --hover-fill-color: #FFFFFF;\n",
              "      --disabled-bg-color: #3B4455;\n",
              "      --disabled-fill-color: #666;\n",
              "  }\n",
              "\n",
              "  .colab-df-quickchart {\n",
              "    background-color: var(--bg-color);\n",
              "    border: none;\n",
              "    border-radius: 50%;\n",
              "    cursor: pointer;\n",
              "    display: none;\n",
              "    fill: var(--fill-color);\n",
              "    height: 32px;\n",
              "    padding: 0;\n",
              "    width: 32px;\n",
              "  }\n",
              "\n",
              "  .colab-df-quickchart:hover {\n",
              "    background-color: var(--hover-bg-color);\n",
              "    box-shadow: 0 1px 2px rgba(60, 64, 67, 0.3), 0 1px 3px 1px rgba(60, 64, 67, 0.15);\n",
              "    fill: var(--button-hover-fill-color);\n",
              "  }\n",
              "\n",
              "  .colab-df-quickchart-complete:disabled,\n",
              "  .colab-df-quickchart-complete:disabled:hover {\n",
              "    background-color: var(--disabled-bg-color);\n",
              "    fill: var(--disabled-fill-color);\n",
              "    box-shadow: none;\n",
              "  }\n",
              "\n",
              "  .colab-df-spinner {\n",
              "    border: 2px solid var(--fill-color);\n",
              "    border-color: transparent;\n",
              "    border-bottom-color: var(--fill-color);\n",
              "    animation:\n",
              "      spin 1s steps(1) infinite;\n",
              "  }\n",
              "\n",
              "  @keyframes spin {\n",
              "    0% {\n",
              "      border-color: transparent;\n",
              "      border-bottom-color: var(--fill-color);\n",
              "      border-left-color: var(--fill-color);\n",
              "    }\n",
              "    20% {\n",
              "      border-color: transparent;\n",
              "      border-left-color: var(--fill-color);\n",
              "      border-top-color: var(--fill-color);\n",
              "    }\n",
              "    30% {\n",
              "      border-color: transparent;\n",
              "      border-left-color: var(--fill-color);\n",
              "      border-top-color: var(--fill-color);\n",
              "      border-right-color: var(--fill-color);\n",
              "    }\n",
              "    40% {\n",
              "      border-color: transparent;\n",
              "      border-right-color: var(--fill-color);\n",
              "      border-top-color: var(--fill-color);\n",
              "    }\n",
              "    60% {\n",
              "      border-color: transparent;\n",
              "      border-right-color: var(--fill-color);\n",
              "    }\n",
              "    80% {\n",
              "      border-color: transparent;\n",
              "      border-right-color: var(--fill-color);\n",
              "      border-bottom-color: var(--fill-color);\n",
              "    }\n",
              "    90% {\n",
              "      border-color: transparent;\n",
              "      border-bottom-color: var(--fill-color);\n",
              "    }\n",
              "  }\n",
              "</style>\n",
              "\n",
              "  <script>\n",
              "    async function quickchart(key) {\n",
              "      const quickchartButtonEl =\n",
              "        document.querySelector('#' + key + ' button');\n",
              "      quickchartButtonEl.disabled = true;  // To prevent multiple clicks.\n",
              "      quickchartButtonEl.classList.add('colab-df-spinner');\n",
              "      try {\n",
              "        const charts = await google.colab.kernel.invokeFunction(\n",
              "            'suggestCharts', [key], {});\n",
              "      } catch (error) {\n",
              "        console.error('Error during call to suggestCharts:', error);\n",
              "      }\n",
              "      quickchartButtonEl.classList.remove('colab-df-spinner');\n",
              "      quickchartButtonEl.classList.add('colab-df-quickchart-complete');\n",
              "    }\n",
              "    (() => {\n",
              "      let quickchartButtonEl =\n",
              "        document.querySelector('#df-d6a15be5-01c1-4251-b9f4-f9a1737fea2a button');\n",
              "      quickchartButtonEl.style.display =\n",
              "        google.colab.kernel.accessAllowed ? 'block' : 'none';\n",
              "    })();\n",
              "  </script>\n",
              "</div>\n",
              "\n",
              "    </div>\n",
              "  </div>\n"
            ],
            "application/vnd.google.colaboratory.intrinsic+json": {
              "type": "dataframe",
              "variable_name": "bankdata"
            }
          },
          "metadata": {},
          "execution_count": 33
        }
      ],
      "source": [
        "bankdata.head(3).T"
      ]
    },
    {
      "cell_type": "markdown",
      "metadata": {
        "id": "PBN1Rqlr-ary"
      },
      "source": [
        "# **Final Machine Learning Model**"
      ]
    },
    {
      "cell_type": "code",
      "execution_count": 34,
      "metadata": {
        "id": "RZ1eeJ4i2355"
      },
      "outputs": [],
      "source": [
        "#'term_deposit_subscription' is the target variable\n",
        "X = bankdata.drop('term_deposit_subscription', axis=1)\n",
        "y = bankdata['term_deposit_subscription']"
      ]
    },
    {
      "cell_type": "code",
      "execution_count": 35,
      "metadata": {
        "id": "jwnn2EAW-7Ah"
      },
      "outputs": [],
      "source": [
        "from sklearn.model_selection import train_test_split\n",
        "\n",
        "# Split the data into training and testing sets (e.g., 80% train, 20% test)\n",
        "X_train, X_test, y_train, y_test = train_test_split(X, y, test_size=0.2, random_state=42, stratify=y)"
      ]
    },
    {
      "cell_type": "markdown",
      "metadata": {
        "id": "tJlLlnfE_gDA"
      },
      "source": [
        "**Tried multiple Multiple machine learning algorithms and for this problem XGBOOST classification gives best model.**"
      ]
    },
    {
      "cell_type": "code",
      "execution_count": 36,
      "metadata": {
        "colab": {
          "base_uri": "https://localhost:8080/",
          "height": 282
        },
        "id": "z5cQQLTd_D9R",
        "outputId": "ef3d1f40-a995-435a-a92d-71dcf3b36d79"
      },
      "outputs": [
        {
          "output_type": "stream",
          "name": "stdout",
          "text": [
            "Fitting 5 folds for each of 108 candidates, totalling 540 fits\n",
            "Best Parameters: {'eval_metric': 'auc', 'learning_rate': 0.1, 'max_depth': 7, 'n_estimators': 50, 'objective': 'binary:logistic'}\n"
          ]
        },
        {
          "output_type": "execute_result",
          "data": {
            "text/plain": [
              "XGBClassifier(base_score=None, booster=None, callbacks=None,\n",
              "              colsample_bylevel=None, colsample_bynode=None,\n",
              "              colsample_bytree=None, device=None, early_stopping_rounds=None,\n",
              "              enable_categorical=False, eval_metric='auc', feature_types=None,\n",
              "              gamma=None, grow_policy=None, importance_type=None,\n",
              "              interaction_constraints=None, learning_rate=0.1, max_bin=None,\n",
              "              max_cat_threshold=None, max_cat_to_onehot=None,\n",
              "              max_delta_step=None, max_depth=7, max_leaves=None,\n",
              "              min_child_weight=None, missing=nan, monotone_constraints=None,\n",
              "              multi_strategy=None, n_estimators=50, n_jobs=None,\n",
              "              num_parallel_tree=None, random_state=42, ...)"
            ],
            "text/html": [
              "<style>#sk-container-id-1 {color: black;}#sk-container-id-1 pre{padding: 0;}#sk-container-id-1 div.sk-toggleable {background-color: white;}#sk-container-id-1 label.sk-toggleable__label {cursor: pointer;display: block;width: 100%;margin-bottom: 0;padding: 0.3em;box-sizing: border-box;text-align: center;}#sk-container-id-1 label.sk-toggleable__label-arrow:before {content: \"▸\";float: left;margin-right: 0.25em;color: #696969;}#sk-container-id-1 label.sk-toggleable__label-arrow:hover:before {color: black;}#sk-container-id-1 div.sk-estimator:hover label.sk-toggleable__label-arrow:before {color: black;}#sk-container-id-1 div.sk-toggleable__content {max-height: 0;max-width: 0;overflow: hidden;text-align: left;background-color: #f0f8ff;}#sk-container-id-1 div.sk-toggleable__content pre {margin: 0.2em;color: black;border-radius: 0.25em;background-color: #f0f8ff;}#sk-container-id-1 input.sk-toggleable__control:checked~div.sk-toggleable__content {max-height: 200px;max-width: 100%;overflow: auto;}#sk-container-id-1 input.sk-toggleable__control:checked~label.sk-toggleable__label-arrow:before {content: \"▾\";}#sk-container-id-1 div.sk-estimator input.sk-toggleable__control:checked~label.sk-toggleable__label {background-color: #d4ebff;}#sk-container-id-1 div.sk-label input.sk-toggleable__control:checked~label.sk-toggleable__label {background-color: #d4ebff;}#sk-container-id-1 input.sk-hidden--visually {border: 0;clip: rect(1px 1px 1px 1px);clip: rect(1px, 1px, 1px, 1px);height: 1px;margin: -1px;overflow: hidden;padding: 0;position: absolute;width: 1px;}#sk-container-id-1 div.sk-estimator {font-family: monospace;background-color: #f0f8ff;border: 1px dotted black;border-radius: 0.25em;box-sizing: border-box;margin-bottom: 0.5em;}#sk-container-id-1 div.sk-estimator:hover {background-color: #d4ebff;}#sk-container-id-1 div.sk-parallel-item::after {content: \"\";width: 100%;border-bottom: 1px solid gray;flex-grow: 1;}#sk-container-id-1 div.sk-label:hover label.sk-toggleable__label {background-color: #d4ebff;}#sk-container-id-1 div.sk-serial::before {content: \"\";position: absolute;border-left: 1px solid gray;box-sizing: border-box;top: 0;bottom: 0;left: 50%;z-index: 0;}#sk-container-id-1 div.sk-serial {display: flex;flex-direction: column;align-items: center;background-color: white;padding-right: 0.2em;padding-left: 0.2em;position: relative;}#sk-container-id-1 div.sk-item {position: relative;z-index: 1;}#sk-container-id-1 div.sk-parallel {display: flex;align-items: stretch;justify-content: center;background-color: white;position: relative;}#sk-container-id-1 div.sk-item::before, #sk-container-id-1 div.sk-parallel-item::before {content: \"\";position: absolute;border-left: 1px solid gray;box-sizing: border-box;top: 0;bottom: 0;left: 50%;z-index: -1;}#sk-container-id-1 div.sk-parallel-item {display: flex;flex-direction: column;z-index: 1;position: relative;background-color: white;}#sk-container-id-1 div.sk-parallel-item:first-child::after {align-self: flex-end;width: 50%;}#sk-container-id-1 div.sk-parallel-item:last-child::after {align-self: flex-start;width: 50%;}#sk-container-id-1 div.sk-parallel-item:only-child::after {width: 0;}#sk-container-id-1 div.sk-dashed-wrapped {border: 1px dashed gray;margin: 0 0.4em 0.5em 0.4em;box-sizing: border-box;padding-bottom: 0.4em;background-color: white;}#sk-container-id-1 div.sk-label label {font-family: monospace;font-weight: bold;display: inline-block;line-height: 1.2em;}#sk-container-id-1 div.sk-label-container {text-align: center;}#sk-container-id-1 div.sk-container {/* jupyter's `normalize.less` sets `[hidden] { display: none; }` but bootstrap.min.css set `[hidden] { display: none !important; }` so we also need the `!important` here to be able to override the default hidden behavior on the sphinx rendered scikit-learn.org. See: https://github.com/scikit-learn/scikit-learn/issues/21755 */display: inline-block !important;position: relative;}#sk-container-id-1 div.sk-text-repr-fallback {display: none;}</style><div id=\"sk-container-id-1\" class=\"sk-top-container\"><div class=\"sk-text-repr-fallback\"><pre>XGBClassifier(base_score=None, booster=None, callbacks=None,\n",
              "              colsample_bylevel=None, colsample_bynode=None,\n",
              "              colsample_bytree=None, device=None, early_stopping_rounds=None,\n",
              "              enable_categorical=False, eval_metric=&#x27;auc&#x27;, feature_types=None,\n",
              "              gamma=None, grow_policy=None, importance_type=None,\n",
              "              interaction_constraints=None, learning_rate=0.1, max_bin=None,\n",
              "              max_cat_threshold=None, max_cat_to_onehot=None,\n",
              "              max_delta_step=None, max_depth=7, max_leaves=None,\n",
              "              min_child_weight=None, missing=nan, monotone_constraints=None,\n",
              "              multi_strategy=None, n_estimators=50, n_jobs=None,\n",
              "              num_parallel_tree=None, random_state=42, ...)</pre><b>In a Jupyter environment, please rerun this cell to show the HTML representation or trust the notebook. <br />On GitHub, the HTML representation is unable to render, please try loading this page with nbviewer.org.</b></div><div class=\"sk-container\" hidden><div class=\"sk-item\"><div class=\"sk-estimator sk-toggleable\"><input class=\"sk-toggleable__control sk-hidden--visually\" id=\"sk-estimator-id-1\" type=\"checkbox\" checked><label for=\"sk-estimator-id-1\" class=\"sk-toggleable__label sk-toggleable__label-arrow\">XGBClassifier</label><div class=\"sk-toggleable__content\"><pre>XGBClassifier(base_score=None, booster=None, callbacks=None,\n",
              "              colsample_bylevel=None, colsample_bynode=None,\n",
              "              colsample_bytree=None, device=None, early_stopping_rounds=None,\n",
              "              enable_categorical=False, eval_metric=&#x27;auc&#x27;, feature_types=None,\n",
              "              gamma=None, grow_policy=None, importance_type=None,\n",
              "              interaction_constraints=None, learning_rate=0.1, max_bin=None,\n",
              "              max_cat_threshold=None, max_cat_to_onehot=None,\n",
              "              max_delta_step=None, max_depth=7, max_leaves=None,\n",
              "              min_child_weight=None, missing=nan, monotone_constraints=None,\n",
              "              multi_strategy=None, n_estimators=50, n_jobs=None,\n",
              "              num_parallel_tree=None, random_state=42, ...)</pre></div></div></div></div></div>"
            ]
          },
          "metadata": {},
          "execution_count": 36
        }
      ],
      "source": [
        "import xgboost as xgb\n",
        "from sklearn.model_selection import GridSearchCV, StratifiedKFold\n",
        "from sklearn.metrics import accuracy_score, roc_auc_score\n",
        "\n",
        "# Define the parameter grid to search\n",
        "param_grid = {\n",
        "    'n_estimators': [50, 100, 200],\n",
        "    'max_depth': [3, 5, 7],\n",
        "    'learning_rate': [0.01, 0.1, 0.3],\n",
        "    'objective': ['binary:logistic', 'binary:hinge'],  # Add different loss functions\n",
        "    'eval_metric': ['auc', 'logloss']  # Add different evaluation metrics\n",
        "}\n",
        "\n",
        "# Create the XGBoost model\n",
        "xgb_model = xgb.XGBClassifier(random_state=42)\n",
        "\n",
        "# Instantiate StratifiedKFold for cross-validation\n",
        "cv = StratifiedKFold(n_splits=5, shuffle=True, random_state=42)\n",
        "\n",
        "# Instantiate GridSearchCV\n",
        "grid_search = GridSearchCV(estimator=xgb_model, param_grid=param_grid, cv=cv,\n",
        "                           scoring='roc_auc', n_jobs=-1, verbose=2)\n",
        "\n",
        "# Fit the grid search to the training data\n",
        "grid_search.fit(X_train, y_train)\n",
        "\n",
        "# Get the best parameters\n",
        "best_params = grid_search.best_params_\n",
        "print(\"Best Parameters:\", best_params)\n",
        "\n",
        "# Train the model with the best parameters\n",
        "best_xgb = xgb.XGBClassifier(**best_params, random_state=42)\n",
        "best_xgb.fit(X_train, y_train)\n"
      ]
    },
    {
      "cell_type": "code",
      "execution_count": 37,
      "metadata": {
        "colab": {
          "base_uri": "https://localhost:8080/"
        },
        "id": "fvBagjSBAaHL",
        "outputId": "51adea22-8597-4801-bc9b-edabfc7815ea"
      },
      "outputs": [
        {
          "output_type": "stream",
          "name": "stdout",
          "text": [
            "ROC AUC Score (Training): 0.9713\n"
          ]
        }
      ],
      "source": [
        "# Predict probabilities for the training set\n",
        "y_train_pred_proba = best_xgb.predict_proba(X_train)[:, 1]\n",
        "\n",
        "# Calculate the ROC AUC score for the training set\n",
        "roc_auc_train = roc_auc_score(y_train, y_train_pred_proba)\n",
        "print(f\"ROC AUC Score (Training): {roc_auc_train:.4f}\")"
      ]
    },
    {
      "cell_type": "code",
      "execution_count": 38,
      "metadata": {
        "colab": {
          "base_uri": "https://localhost:8080/",
          "height": 581
        },
        "id": "Rr9EQecdByL3",
        "outputId": "56319c4f-9e61-4f71-e48f-a7088f429b44"
      },
      "outputs": [
        {
          "output_type": "stream",
          "name": "stdout",
          "text": [
            "ROC AUC Score: 0.9490\n"
          ]
        },
        {
          "output_type": "display_data",
          "data": {
            "text/plain": [
              "<Figure size 800x600 with 1 Axes>"
            ],
            "image/png": "[encoded data removed]"
          },
          "metadata": {}
        }
      ],
      "source": [
        "from sklearn.metrics import roc_curve\n",
        "# Predict probabilities for the test set\n",
        "y_pred_proba = best_xgb.predict_proba(X_test)[:, 1]\n",
        "\n",
        "# Calculate the ROC AUC score\n",
        "roc_auc = roc_auc_score(y_test, y_pred_proba)\n",
        "print(f\"ROC AUC Score: {roc_auc:.4f}\")\n",
        "\n",
        "# Plot the ROC curve\n",
        "fpr, tpr, thresholds = roc_curve(y_test, y_pred_proba)\n",
        "plt.figure(figsize=(8, 6))\n",
        "plt.plot(fpr, tpr, label=f'ROC curve (area = {roc_auc:.2f})')\n",
        "plt.plot([0, 1], [0, 1], 'k--')  # Diagonal line for random classifier\n",
        "plt.xlabel('False Positive Rate')\n",
        "plt.ylabel('True Positive Rate')\n",
        "plt.title('Receiver Operating Characteristic (ROC) Curve for XGBoost')\n",
        "plt.legend(loc='lower right')\n",
        "plt.show()\n"
      ]
    },
    {
      "cell_type": "markdown",
      "metadata": {
        "id": "J0EootZnEMgY"
      },
      "source": [
        "To improve model performance:"
      ]
    },
    {
      "cell_type": "code",
      "source": [
        "# Define the parameter grid to search\n",
        "param_grid = {\n",
        "    'n_estimators': [50, 100, 200],\n",
        "    'max_depth': [5, 7, 15],  # Increased max_depth options\n",
        "    'learning_rate': [0.01, 0.1, 0.3],\n",
        "    'subsample': [0.8, 1.0],  # Added subsample for potential overfitting reduction\n",
        "    'colsample_bytree': [0.8, 1.0],  # Added colsample_bytree for feature sampling\n",
        "    'gamma': [0, 0.1, 0.5]  # Added gamma for regularization\n",
        "}\n",
        "\n",
        "# Create the XGBoost model\n",
        "xgb_model = xgb.XGBClassifier(random_state=42)\n",
        "\n",
        "# Instantiate StratifiedKFold for cross-validation\n",
        "cv = StratifiedKFold(n_splits=5, shuffle=True, random_state=42)\n",
        "\n",
        "# Instantiate GridSearchCV\n",
        "grid_search = GridSearchCV(estimator=xgb_model, param_grid=param_grid, cv=cv,\n",
        "                           scoring='roc_auc', n_jobs=-1, verbose=2)\n",
        "\n",
        "# Fit the grid search to the training data\n",
        "grid_search.fit(X_train, y_train)\n",
        "\n",
        "# Get the best parameters\n",
        "best_params = grid_search.best_params_\n",
        "print(\"Best Parameters:\", best_params)\n",
        "\n",
        "# Train the model with the best parameters\n",
        "best_xgb = xgb.XGBClassifier(**best_params, random_state=42)\n",
        "best_xgb.fit(X_train, y_train)\n",
        "\n",
        "# Predict probabilities for the training set\n",
        "y_train_pred_proba = best_xgb.predict_proba(X_train)[:, 1]\n",
        "\n",
        "# Calculate the ROC AUC score for the training set\n",
        "roc_auc_train = roc_auc_score(y_train, y_train_pred_proba)\n",
        "print(f\"ROC AUC Score (Training): {roc_auc_train:.4f}\")\n",
        "\n",
        "# Predict probabilities for the test set\n",
        "y_pred_proba = best_xgb.predict_proba(X_test)[:, 1]\n",
        "\n",
        "# Calculate the ROC AUC score\n",
        "roc_auc = roc_auc_score(y_test, y_pred_proba)\n",
        "print(f\"ROC AUC Score: {roc_auc:.4f}\")\n"
      ],
      "metadata": {
        "colab": {
          "base_uri": "https://localhost:8080/"
        },
        "id": "lrjg2mnFoebO",
        "outputId": "7b4b21e1-f6d5-4f52-a4a3-3b2a461b5a3e"
      },
      "execution_count": 39,
      "outputs": [
        {
          "output_type": "stream",
          "name": "stdout",
          "text": [
            "Fitting 5 folds for each of 324 candidates, totalling 1620 fits\n",
            "Best Parameters: {'colsample_bytree': 1.0, 'gamma': 0.1, 'learning_rate': 0.1, 'max_depth': 5, 'n_estimators': 100, 'subsample': 0.8}\n",
            "ROC AUC Score (Training): 0.9662\n",
            "ROC AUC Score: 0.9495\n"
          ]
        }
      ]
    },
    {
      "cell_type": "markdown",
      "source": [
        "### **Gains Table**"
      ],
      "metadata": {
        "id": "TAVfiDwxXWkq"
      }
    },
    {
      "cell_type": "code",
      "source": [
        "# Predict probabilities for the training set\n",
        "y_train_pred_proba = best_xgb.predict_proba(X_train)[:, 1]\n",
        "\n",
        "# Create a DataFrame with actual and predicted probabilities\n",
        "train_result = pd.DataFrame({'actual': y_train, 'predicted_prob': y_train_pred_proba})\n",
        "\n",
        "# Sort the DataFrame by predicted probabilities in descending order\n",
        "train_result = train_result.sort_values(by='predicted_prob', ascending=False)\n",
        "\n",
        "# Calculate cumulative gains and assign deciles in descending order\n",
        "train_result['decile'] = pd.qcut(train_result['predicted_prob'], 10, labels=False) + 1\n",
        "train_result['decile'] = train_result['decile'].max() + 1 - train_result['decile']\n",
        "\n",
        "# Group by decile and calculate the required metrics\n",
        "gains_table_train = train_result.groupby('decile')['actual'].agg(['sum', 'count'])\n",
        "gains_table_train['Resp_sum'] = gains_table_train['sum']\n",
        "gains_table_train['Non_Resp_sum'] = gains_table_train['count'] - gains_table_train['sum']\n",
        "gains_table_train['cum_resp_sum'] = gains_table_train['sum'].cumsum()\n",
        "gains_table_train['cum_non_resp_sum'] = gains_table_train['count'].cumsum() - gains_table_train['sum'].cumsum()\n",
        "\n",
        "# Calculate KS and Lift\n",
        "total_responders = gains_table_train['sum'].sum()\n",
        "total_records = gains_table_train['count'].sum()\n",
        "baseline_response_rate = total_responders / total_records\n",
        "\n",
        "gains_table_train['KS'] = (gains_table_train['cum_resp_sum'] / total_responders) - (gains_table_train['cum_non_resp_sum'] / total_records)\n",
        "gains_table_train['Lift'] = (gains_table_train['Resp_sum'] / gains_table_train['count']) / baseline_response_rate\n",
        "\n",
        "# calculate Cumulative Lift\n",
        "gains_table_train['cum_lift'] = (gains_table_train['cum_resp_sum'] / (gains_table_train['cum_resp_sum']+gains_table_train['cum_non_resp_sum'])) / baseline_response_rate\n",
        "\n",
        "# Reorder columns\n",
        "gains_table_train = gains_table_train[['count', 'Resp_sum', 'Non_Resp_sum', 'cum_resp_sum', 'cum_non_resp_sum', 'KS', 'Lift','cum_lift']]\n",
        "\n",
        "# Rename columns\n",
        "gains_table_train = gains_table_train.rename(columns={'count': 'Count'})\n",
        "\n",
        "print(\"Gains Table for Training Set:\")\n",
        "print(gains_table_train.round(2))"
      ],
      "metadata": {
        "colab": {
          "base_uri": "https://localhost:8080/"
        },
        "id": "X5kM4OckW_MG",
        "outputId": "1b02d4fd-e74a-4b2d-b08a-986618d8c481"
      },
      "execution_count": 40,
      "outputs": [
        {
          "output_type": "stream",
          "name": "stdout",
          "text": [
            "Gains Table for Training Set:\n",
            "        Count  Resp_sum  Non_Resp_sum  cum_resp_sum  cum_non_resp_sum    KS  \\\n",
            "decile                                                                        \n",
            "1        3117      2150           967          2150               967  0.67   \n",
            "2        3116       746          2370          2896              3337  0.83   \n",
            "3        3116       158          2958          3054              6295  0.79   \n",
            "4        3117        24          3093          3078              9388  0.70   \n",
            "5        3116         4          3112          3082             12500  0.60   \n",
            "6        3116         3          3113          3085             15613  0.50   \n",
            "7        3117         1          3116          3086             18729  0.40   \n",
            "8        3116         0          3116          3086             21845  0.30   \n",
            "9        3116         0          3116          3086             24961  0.20   \n",
            "10       3117         0          3117          3086             28078  0.10   \n",
            "\n",
            "        Lift  cum_lift  \n",
            "decile                  \n",
            "1       6.97      6.97  \n",
            "2       2.42      4.69  \n",
            "3       0.51      3.30  \n",
            "4       0.08      2.49  \n",
            "5       0.01      2.00  \n",
            "6       0.01      1.67  \n",
            "7       0.00      1.43  \n",
            "8       0.00      1.25  \n",
            "9       0.00      1.11  \n",
            "10      0.00      1.00  \n"
          ]
        }
      ]
    },
    {
      "cell_type": "code",
      "source": [
        "# Predict probabilities for the test set\n",
        "y_test_pred_proba = best_xgb.predict_proba(X_test)[:, 1]\n",
        "\n",
        "# Create a DataFrame with actual and predicted probabilities\n",
        "test_result = pd.DataFrame({'actual': y_test, 'predicted_prob': y_test_pred_proba})\n",
        "\n",
        "# Sort the DataFrame by predicted probabilities in descending order\n",
        "test_result = test_result.sort_values(by='predicted_prob', ascending=False)\n",
        "\n",
        "# Calculate cumulative gains and assign deciles in descending order\n",
        "test_result['decile'] = pd.qcut(test_result['predicted_prob'], 10, labels=False) + 1\n",
        "test_result['decile'] = test_result['decile'].max() + 1 - test_result['decile']\n",
        "\n",
        "# Group by decile and calculate the required metrics\n",
        "gains_table_test = test_result.groupby('decile')['actual'].agg(['sum', 'count'])\n",
        "gains_table_test['Resp_sum'] = gains_table_test['sum']\n",
        "gains_table_test['Non_Resp_sum'] = gains_table_test['count'] - gains_table_test['sum']\n",
        "gains_table_test['cum_resp_sum'] = gains_table_test['sum'].cumsum()\n",
        "gains_table_test['cum_non_resp_sum'] = gains_table_test['count'].cumsum() - gains_table_test['sum'].cumsum()\n",
        "\n",
        "# Calculate KS and Lift\n",
        "total_responders = gains_table_test['sum'].sum()\n",
        "total_records = gains_table_test['count'].sum()\n",
        "baseline_response_rate = total_responders / total_records\n",
        "\n",
        "gains_table_test['KS'] = (gains_table_test['cum_resp_sum'] / total_responders) - (gains_table_test['cum_non_resp_sum'] / total_records)\n",
        "gains_table_test['Lift'] = (gains_table_test['Resp_sum'] / gains_table_test['count']) / baseline_response_rate\n",
        "\n",
        "\n",
        "#  calculate Cumulative Lift\n",
        "gains_table_test['cum_lift'] = (gains_table_test['cum_resp_sum'] / (gains_table_test['cum_resp_sum']+gains_table_test['cum_non_resp_sum'])) / baseline_response_rate\n",
        "\n",
        "\n",
        "# Reorder columns\n",
        "gains_table_test = gains_table_test[['count', 'Resp_sum', 'Non_Resp_sum', 'cum_resp_sum', 'cum_non_resp_sum', 'KS', 'Lift','cum_lift']]\n",
        "\n",
        "# Rename columns\n",
        "gains_table_test = gains_table_test.rename(columns={'count': 'Count'})\n",
        "\n",
        "print(\"Gains Table for Test Set:\")\n",
        "print(gains_table_test.round(2))\n"
      ],
      "metadata": {
        "colab": {
          "base_uri": "https://localhost:8080/"
        },
        "id": "d4hxbi-9xaeq",
        "outputId": "ca103960-0deb-4d12-e610-ea50ffceee84"
      },
      "execution_count": 41,
      "outputs": [
        {
          "output_type": "stream",
          "name": "stdout",
          "text": [
            "Gains Table for Test Set:\n",
            "        Count  Resp_sum  Non_Resp_sum  cum_resp_sum  cum_non_resp_sum    KS  \\\n",
            "decile                                                                        \n",
            "1         780       477           303           477               303  0.58   \n",
            "2         779       212           567           689               870  0.78   \n",
            "3         779        59           720           748              1590  0.77   \n",
            "4         779        17           762           765              2352  0.69   \n",
            "5         779         3           776           768              3128  0.59   \n",
            "6         779         3           776           771              3904  0.50   \n",
            "7         779         0           779           771              4683  0.40   \n",
            "8         779         0           779           771              5462  0.30   \n",
            "9         779         0           779           771              6241  0.20   \n",
            "10        780         0           780           771              7021  0.10   \n",
            "\n",
            "        Lift  cum_lift  \n",
            "decile                  \n",
            "1       6.18      6.18  \n",
            "2       2.75      4.47  \n",
            "3       0.77      3.23  \n",
            "4       0.22      2.48  \n",
            "5       0.04      1.99  \n",
            "6       0.04      1.67  \n",
            "7       0.00      1.43  \n",
            "8       0.00      1.25  \n",
            "9       0.00      1.11  \n",
            "10      0.00      1.00  \n"
          ]
        }
      ]
    },
    {
      "cell_type": "code",
      "source": [
        "# KS Statistic\n",
        "from scipy.stats import ks_2samp\n",
        "ks_statistic, p_value = ks_2samp(y_test_pred_proba[y_test == 1], y_test_pred_proba[y_test == 0])\n",
        "print(f\"KS Statistic: {ks_statistic:.4f}\")\n"
      ],
      "metadata": {
        "colab": {
          "base_uri": "https://localhost:8080/"
        },
        "id": "gg5Lpe7_IQhY",
        "outputId": "cce3a44f-f29e-4345-e05c-2a1a08a2a989"
      },
      "execution_count": 42,
      "outputs": [
        {
          "output_type": "stream",
          "name": "stdout",
          "text": [
            "KS Statistic: 0.7807\n"
          ]
        }
      ]
    },
    {
      "cell_type": "code",
      "source": [
        "# Plot cumulative lift for training and test sets\n",
        "plt.figure(figsize=(10, 6))\n",
        "plt.plot(gains_table_train.index, gains_table_train['cum_lift'], label='Training Set')\n",
        "plt.plot(gains_table_test.index, gains_table_test['cum_lift'], label='Test Set')\n",
        "plt.xlabel('Decile')\n",
        "plt.ylabel('Cumulative Lift')\n",
        "plt.title('Monotonic Rank Ordering Plot')\n",
        "plt.legend()\n",
        "plt.grid(True)\n",
        "plt.show()\n"
      ],
      "metadata": {
        "colab": {
          "base_uri": "https://localhost:8080/",
          "height": 564
        },
        "id": "_Qx7KOe_bISW",
        "outputId": "677ca376-eb97-43fc-ce34-e8fdfea7a642"
      },
      "execution_count": 43,
      "outputs": [
        {
          "output_type": "display_data",
          "data": {
            "text/plain": [
              "<Figure size 1000x600 with 1 Axes>"
            ],
            "image/png": "[encoded data removed]"
          },
          "metadata": {}
        }
      ]
    },
    {
      "cell_type": "markdown",
      "source": [
        "The model demonstrates strong predictive performance with a high ROC AUC score of 0.9495 on the test set, indicating its ability to distinguish between positive and negative cases effectively.<br>\n",
        "A KS Statistic of 0.7807 further supports this, suggesting a good separation of predicted probabilities between the two classes.<br>\n",
        "\n",
        "The cumulative lift chart shows how much better our model is at identifying customers who will subscribe to the term deposit compared to random selection. In this case, the chart shows that the model has a significant lift in the top deciles. This means that the model is effectively identifying customers with a higher likelihood of subscribing. The difference in cumulative lift between training and testing is not very large, suggesting that the model generalizes reasonably well to unseen data. The KS statistic is a measure of how well the model separates the two groups (those who subscribed and those who did not). A higher KS statistic indicates better separation. In this case, the KS statistic is 0.7807, which suggests good separation. Overall, the model performance is good according to the cumulative lift chart and the KS statistic.\n",
        "<br>\n",
        "\n",
        "The Monotonic Rank Ordering Plot helps visualize the model's ability to rank observations based on their predicted probabilities.The plot shows how the cumulative lift changes across deciles. A steeper curve indicates better model performance in identifying the most likely responders.If the curves for the training and test sets are similar, it suggests that the model is stable and generalizes well to new data.<br>\n",
        "\n",
        "While a slight difference exists between training (0.9662 ROC AUC) and testing performance, it's not significant enough to raise major concerns about overfitting. The model appears to generalize well to unseen data.\n"
      ],
      "metadata": {
        "id": "QBoRNIrNKCF8"
      }
    }
  ],
  "metadata": {
    "colab": {
      "provenance": []
    },
    "kernelspec": {
      "display_name": "Python 3",
      "name": "python3"
    },
    "language_info": {
      "name": "python"
    }
  },
  "nbformat": 4,
  "nbformat_minor": 0
}